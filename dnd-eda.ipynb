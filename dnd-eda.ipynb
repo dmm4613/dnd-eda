{
 "cells": [
  {
   "cell_type": "markdown",
   "id": "f900fdca-7679-4c4a-9bc9-3ea61fd164e7",
   "metadata": {},
   "source": [
    "<figure>\n",
    "    <img src=\"../_images/dnd-logo.png\" alt=\"Dungeons and Dragons Logo!\"/>\n",
    "    <figure-caption>image from https://www.enworld.org/resources/d-d-5e-logo-pack.1043/</figure-caption>\n",
    "</figure>\n",
    "\n",
    "# An Analysis of Dungeons and Dragons 5ed Monsters \n",
    "## Using data found from [Patrick Gomes at Kaggle](https://www.kaggle.com/datasets/patrickgomes/dungeons-and-dragons-5e-monsters/data) I will look to see if I can answer a few questions regarding the diversity of monsters in Dungeons and Dragons Fifth Edition (to be called 5e for the remainder of this project). I will pose the following questions\n",
    "### 1. What are the most common monster types (shown as race in this data)?\n",
    "### 2. Is there a noticeable disparity between monster types?\n",
    "### 3. Is there any connection between monster type and alignment?\n",
    "### 4. Does monster size impact hit point amounts?\n",
    "### 5. Does a monster’s armor class have a correlation with its speed or hit points?"
   ]
  },
  {
   "cell_type": "code",
   "execution_count": 14,
   "id": "ef340d8c-67f2-4165-a327-a166a05a2955",
   "metadata": {},
   "outputs": [],
   "source": [
    "#import libraries used for data analysis\n",
    "import numpy as np\n",
    "import pandas as pd\n",
    "import matplotlib.pyplot as plt\n",
    "import seaborn as sns"
   ]
  },
  {
   "cell_type": "code",
   "execution_count": 26,
   "id": "73f326a8-c2c5-4d99-bd21-a693b24b563e",
   "metadata": {},
   "outputs": [
    {
     "name": "stdout",
     "output_type": "stream",
     "text": [
      "<class 'pandas.core.frame.DataFrame'>\n",
      "RangeIndex: 324 entries, 0 to 323\n",
      "Data columns (total 7 columns):\n",
      " #   Column                  Non-Null Count  Dtype \n",
      "---  ------                  --------------  ----- \n",
      " 0   Name                    324 non-null    object\n",
      " 1   Size                    324 non-null    object\n",
      " 2   Race + alignment        324 non-null    object\n",
      " 3   HP                      324 non-null    object\n",
      " 4   Armor                   324 non-null    object\n",
      " 5   Speed                   324 non-null    object\n",
      " 6   Challenge rating  (XP)  324 non-null    object\n",
      "dtypes: object(7)\n",
      "memory usage: 17.8+ KB\n"
     ]
    }
   ],
   "source": [
    "#read in the CSV file and see a preview of the data\n",
    "dnd = pd.read_csv('Dd5e_monsters.csv')\n",
    "dnd.info()"
   ]
  },
  {
   "cell_type": "code",
   "execution_count": 27,
   "id": "25bb4c0c-935f-4515-804a-420bfffe8f53",
   "metadata": {},
   "outputs": [
    {
     "data": {
      "text/html": [
       "<div>\n",
       "<style scoped>\n",
       "    .dataframe tbody tr th:only-of-type {\n",
       "        vertical-align: middle;\n",
       "    }\n",
       "\n",
       "    .dataframe tbody tr th {\n",
       "        vertical-align: top;\n",
       "    }\n",
       "\n",
       "    .dataframe thead th {\n",
       "        text-align: right;\n",
       "    }\n",
       "</style>\n",
       "<table border=\"1\" class=\"dataframe\">\n",
       "  <thead>\n",
       "    <tr style=\"text-align: right;\">\n",
       "      <th></th>\n",
       "      <th>Name</th>\n",
       "      <th>Size</th>\n",
       "      <th>Race + alignment</th>\n",
       "      <th>HP</th>\n",
       "      <th>Armor</th>\n",
       "      <th>Speed</th>\n",
       "      <th>Challenge rating  (XP)</th>\n",
       "    </tr>\n",
       "  </thead>\n",
       "  <tbody>\n",
       "    <tr>\n",
       "      <th>0</th>\n",
       "      <td>Aboleth</td>\n",
       "      <td>Large</td>\n",
       "      <td>aberration, Lawful Evil</td>\n",
       "      <td>135 (18d10+36)</td>\n",
       "      <td>17 (Natural Armor)</td>\n",
       "      <td>10 ft., swim 40 ft.</td>\n",
       "      <td>10 (5,900 XP)</td>\n",
       "    </tr>\n",
       "    <tr>\n",
       "      <th>1</th>\n",
       "      <td>Acolyte</td>\n",
       "      <td>Medium</td>\n",
       "      <td>humanoid (any race), Any Alignment</td>\n",
       "      <td>9 (2d8)</td>\n",
       "      <td>10</td>\n",
       "      <td>30 ft.</td>\n",
       "      <td>1/4 (50 XP)</td>\n",
       "    </tr>\n",
       "    <tr>\n",
       "      <th>2</th>\n",
       "      <td>Adult Black Dragon</td>\n",
       "      <td>Huge</td>\n",
       "      <td>dragon, Chaotic Evil</td>\n",
       "      <td>195 (17d12+85)</td>\n",
       "      <td>19 (Natural Armor)</td>\n",
       "      <td>40 ft., fly 80 ft., swim 40 ft.</td>\n",
       "      <td>14 (11,500 XP)</td>\n",
       "    </tr>\n",
       "  </tbody>\n",
       "</table>\n",
       "</div>"
      ],
      "text/plain": [
       "                 Name    Size                    Race + alignment  \\\n",
       "0             Aboleth   Large             aberration, Lawful Evil   \n",
       "1             Acolyte  Medium  humanoid (any race), Any Alignment   \n",
       "2  Adult Black Dragon    Huge                dragon, Chaotic Evil   \n",
       "\n",
       "               HP               Armor                            Speed  \\\n",
       "0  135 (18d10+36)  17 (Natural Armor)              10 ft., swim 40 ft.   \n",
       "1         9 (2d8)                  10                           30 ft.   \n",
       "2  195 (17d12+85)  19 (Natural Armor)  40 ft., fly 80 ft., swim 40 ft.   \n",
       "\n",
       "  Challenge rating  (XP)  \n",
       "0          10 (5,900 XP)  \n",
       "1            1/4 (50 XP)  \n",
       "2         14 (11,500 XP)  "
      ]
     },
     "execution_count": 27,
     "metadata": {},
     "output_type": "execute_result"
    }
   ],
   "source": [
    "#look over the columns names and first three rows worth of data\n",
    "dnd.head(3)"
   ]
  },
  {
   "cell_type": "code",
   "execution_count": 28,
   "id": "bbc89a73-0e84-4ed3-aa3e-83b7fe422935",
   "metadata": {},
   "outputs": [
    {
     "data": {
      "text/plain": [
       "Name                      0\n",
       "Size                      0\n",
       "Race + alignment          0\n",
       "HP                        0\n",
       "Armor                     0\n",
       "Speed                     0\n",
       "Challenge rating  (XP)    0\n",
       "dtype: int64"
      ]
     },
     "execution_count": 28,
     "metadata": {},
     "output_type": "execute_result"
    }
   ],
   "source": [
    "#Check for any null values even those this data set looks pretty clean at a glance\n",
    "dnd.isnull().sum()"
   ]
  },
  {
   "cell_type": "markdown",
   "id": "37bb5479-e0f1-42fd-87e4-887ea55f8ef1",
   "metadata": {},
   "source": [
    "## What are the most common monster types (shown as race in this data)?\n",
    "\n",
    "To work on this question I plan on splitting up Race+Alignment into two separate columns"
   ]
  },
  {
   "cell_type": "code",
   "execution_count": 33,
   "id": "43db423d-fa7c-4379-8d7e-8f8782f25e0e",
   "metadata": {},
   "outputs": [],
   "source": [
    "# found that some of the data had multiple commas, so starting from the end of the string was the trick\n",
    "dnd[['Race','Alignment']] = dnd['Race + alignment'].str.rsplit(',', n=1, expand=True)"
   ]
  },
  {
   "cell_type": "code",
   "execution_count": 34,
   "id": "2b99c81a-7c6a-4326-996a-ebda340e352b",
   "metadata": {},
   "outputs": [
    {
     "data": {
      "text/html": [
       "<div>\n",
       "<style scoped>\n",
       "    .dataframe tbody tr th:only-of-type {\n",
       "        vertical-align: middle;\n",
       "    }\n",
       "\n",
       "    .dataframe tbody tr th {\n",
       "        vertical-align: top;\n",
       "    }\n",
       "\n",
       "    .dataframe thead th {\n",
       "        text-align: right;\n",
       "    }\n",
       "</style>\n",
       "<table border=\"1\" class=\"dataframe\">\n",
       "  <thead>\n",
       "    <tr style=\"text-align: right;\">\n",
       "      <th></th>\n",
       "      <th>Name</th>\n",
       "      <th>Size</th>\n",
       "      <th>Race + alignment</th>\n",
       "      <th>HP</th>\n",
       "      <th>Armor</th>\n",
       "      <th>Speed</th>\n",
       "      <th>Challenge rating  (XP)</th>\n",
       "      <th>Race</th>\n",
       "      <th>Alignment</th>\n",
       "    </tr>\n",
       "  </thead>\n",
       "  <tbody>\n",
       "    <tr>\n",
       "      <th>0</th>\n",
       "      <td>Aboleth</td>\n",
       "      <td>Large</td>\n",
       "      <td>aberration, Lawful Evil</td>\n",
       "      <td>135 (18d10+36)</td>\n",
       "      <td>17 (Natural Armor)</td>\n",
       "      <td>10 ft., swim 40 ft.</td>\n",
       "      <td>10 (5,900 XP)</td>\n",
       "      <td>aberration</td>\n",
       "      <td>Lawful Evil</td>\n",
       "    </tr>\n",
       "    <tr>\n",
       "      <th>1</th>\n",
       "      <td>Acolyte</td>\n",
       "      <td>Medium</td>\n",
       "      <td>humanoid (any race), Any Alignment</td>\n",
       "      <td>9 (2d8)</td>\n",
       "      <td>10</td>\n",
       "      <td>30 ft.</td>\n",
       "      <td>1/4 (50 XP)</td>\n",
       "      <td>humanoid (any race)</td>\n",
       "      <td>Any Alignment</td>\n",
       "    </tr>\n",
       "    <tr>\n",
       "      <th>2</th>\n",
       "      <td>Adult Black Dragon</td>\n",
       "      <td>Huge</td>\n",
       "      <td>dragon, Chaotic Evil</td>\n",
       "      <td>195 (17d12+85)</td>\n",
       "      <td>19 (Natural Armor)</td>\n",
       "      <td>40 ft., fly 80 ft., swim 40 ft.</td>\n",
       "      <td>14 (11,500 XP)</td>\n",
       "      <td>dragon</td>\n",
       "      <td>Chaotic Evil</td>\n",
       "    </tr>\n",
       "    <tr>\n",
       "      <th>3</th>\n",
       "      <td>Adult Blue Dragon</td>\n",
       "      <td>Huge</td>\n",
       "      <td>dragon, Lawful Evil</td>\n",
       "      <td>225 (18d12+108)</td>\n",
       "      <td>19</td>\n",
       "      <td>40 ft., burrow 30 ft., fly 80 ft.</td>\n",
       "      <td>16 (15,000 XP)</td>\n",
       "      <td>dragon</td>\n",
       "      <td>Lawful Evil</td>\n",
       "    </tr>\n",
       "    <tr>\n",
       "      <th>4</th>\n",
       "      <td>Adult Brass Dragon</td>\n",
       "      <td>Huge</td>\n",
       "      <td>dragon, Chaotic Good</td>\n",
       "      <td>172 (15d12+75)</td>\n",
       "      <td>18 (Natural Armor)</td>\n",
       "      <td>40 ft., burrow 40 ft., fly 80 ft.</td>\n",
       "      <td>13 (10,000 XP)</td>\n",
       "      <td>dragon</td>\n",
       "      <td>Chaotic Good</td>\n",
       "    </tr>\n",
       "    <tr>\n",
       "      <th>...</th>\n",
       "      <td>...</td>\n",
       "      <td>...</td>\n",
       "      <td>...</td>\n",
       "      <td>...</td>\n",
       "      <td>...</td>\n",
       "      <td>...</td>\n",
       "      <td>...</td>\n",
       "      <td>...</td>\n",
       "      <td>...</td>\n",
       "    </tr>\n",
       "    <tr>\n",
       "      <th>319</th>\n",
       "      <td>Young Green Dragon</td>\n",
       "      <td>Large</td>\n",
       "      <td>dragon, Lawful Evil</td>\n",
       "      <td>136 (16d10+48)</td>\n",
       "      <td>18 (Natural Armor)</td>\n",
       "      <td>40 ft., fly 80 ft., swim 40 ft.</td>\n",
       "      <td>8 (3,900 XP)</td>\n",
       "      <td>dragon</td>\n",
       "      <td>Lawful Evil</td>\n",
       "    </tr>\n",
       "    <tr>\n",
       "      <th>320</th>\n",
       "      <td>Young Red Dragon</td>\n",
       "      <td>Large</td>\n",
       "      <td>dragon, Chaotic Evil</td>\n",
       "      <td>178 (17d10+85)</td>\n",
       "      <td>18 (Natural Armor)</td>\n",
       "      <td>40 ft., climb 40 ft., fly 80 ft.</td>\n",
       "      <td>10 (5,900 XP)</td>\n",
       "      <td>dragon</td>\n",
       "      <td>Chaotic Evil</td>\n",
       "    </tr>\n",
       "    <tr>\n",
       "      <th>321</th>\n",
       "      <td>Young Silver Dragon</td>\n",
       "      <td>Large</td>\n",
       "      <td>dragon, Lawful Good</td>\n",
       "      <td>168 (16d10+80)</td>\n",
       "      <td>18 (Natural Armor)</td>\n",
       "      <td>40 ft., fly 80 ft.</td>\n",
       "      <td>9 (5,000 XP)</td>\n",
       "      <td>dragon</td>\n",
       "      <td>Lawful Good</td>\n",
       "    </tr>\n",
       "    <tr>\n",
       "      <th>322</th>\n",
       "      <td>Young White Dragon</td>\n",
       "      <td>Large</td>\n",
       "      <td>dragon, Chaotic Evil</td>\n",
       "      <td>133 (14d10+56)</td>\n",
       "      <td>17 (Natural Armor)</td>\n",
       "      <td>40 ft., burrow 20 ft., fly 80 ft., swim 40 ft.</td>\n",
       "      <td>6 (2,300 XP)</td>\n",
       "      <td>dragon</td>\n",
       "      <td>Chaotic Evil</td>\n",
       "    </tr>\n",
       "    <tr>\n",
       "      <th>323</th>\n",
       "      <td>Zombie</td>\n",
       "      <td>Medium</td>\n",
       "      <td>undead, Neutral Evil</td>\n",
       "      <td>22 (3d8+9)</td>\n",
       "      <td>8</td>\n",
       "      <td>20 ft.</td>\n",
       "      <td>1/4 (50 XP)</td>\n",
       "      <td>undead</td>\n",
       "      <td>Neutral Evil</td>\n",
       "    </tr>\n",
       "  </tbody>\n",
       "</table>\n",
       "<p>324 rows × 9 columns</p>\n",
       "</div>"
      ],
      "text/plain": [
       "                    Name    Size                    Race + alignment  \\\n",
       "0                Aboleth   Large             aberration, Lawful Evil   \n",
       "1                Acolyte  Medium  humanoid (any race), Any Alignment   \n",
       "2     Adult Black Dragon    Huge                dragon, Chaotic Evil   \n",
       "3      Adult Blue Dragon    Huge                 dragon, Lawful Evil   \n",
       "4     Adult Brass Dragon    Huge                dragon, Chaotic Good   \n",
       "..                   ...     ...                                 ...   \n",
       "319   Young Green Dragon   Large                 dragon, Lawful Evil   \n",
       "320     Young Red Dragon   Large                dragon, Chaotic Evil   \n",
       "321  Young Silver Dragon   Large                 dragon, Lawful Good   \n",
       "322   Young White Dragon   Large                dragon, Chaotic Evil   \n",
       "323               Zombie  Medium                undead, Neutral Evil   \n",
       "\n",
       "                  HP               Armor  \\\n",
       "0     135 (18d10+36)  17 (Natural Armor)   \n",
       "1            9 (2d8)                  10   \n",
       "2     195 (17d12+85)  19 (Natural Armor)   \n",
       "3    225 (18d12+108)                  19   \n",
       "4     172 (15d12+75)  18 (Natural Armor)   \n",
       "..               ...                 ...   \n",
       "319   136 (16d10+48)  18 (Natural Armor)   \n",
       "320   178 (17d10+85)  18 (Natural Armor)   \n",
       "321   168 (16d10+80)  18 (Natural Armor)   \n",
       "322   133 (14d10+56)  17 (Natural Armor)   \n",
       "323       22 (3d8+9)                   8   \n",
       "\n",
       "                                              Speed Challenge rating  (XP)  \\\n",
       "0                               10 ft., swim 40 ft.          10 (5,900 XP)   \n",
       "1                                            30 ft.            1/4 (50 XP)   \n",
       "2                   40 ft., fly 80 ft., swim 40 ft.         14 (11,500 XP)   \n",
       "3                 40 ft., burrow 30 ft., fly 80 ft.         16 (15,000 XP)   \n",
       "4                 40 ft., burrow 40 ft., fly 80 ft.         13 (10,000 XP)   \n",
       "..                                              ...                    ...   \n",
       "319                 40 ft., fly 80 ft., swim 40 ft.           8 (3,900 XP)   \n",
       "320                40 ft., climb 40 ft., fly 80 ft.          10 (5,900 XP)   \n",
       "321                              40 ft., fly 80 ft.           9 (5,000 XP)   \n",
       "322  40 ft., burrow 20 ft., fly 80 ft., swim 40 ft.           6 (2,300 XP)   \n",
       "323                                          20 ft.            1/4 (50 XP)   \n",
       "\n",
       "                    Race       Alignment  \n",
       "0             aberration     Lawful Evil  \n",
       "1    humanoid (any race)   Any Alignment  \n",
       "2                 dragon    Chaotic Evil  \n",
       "3                 dragon     Lawful Evil  \n",
       "4                 dragon    Chaotic Good  \n",
       "..                   ...             ...  \n",
       "319               dragon     Lawful Evil  \n",
       "320               dragon    Chaotic Evil  \n",
       "321               dragon     Lawful Good  \n",
       "322               dragon    Chaotic Evil  \n",
       "323               undead    Neutral Evil  \n",
       "\n",
       "[324 rows x 9 columns]"
      ]
     },
     "execution_count": 34,
     "metadata": {},
     "output_type": "execute_result"
    }
   ],
   "source": [
    "dnd"
   ]
  },
  {
   "cell_type": "code",
   "execution_count": 59,
   "id": "7fd41649-9406-49db-b4d3-1a2190cd50a8",
   "metadata": {},
   "outputs": [],
   "source": [
    "different_races_count = dnd['Race'].value_counts()\n",
    "different_races = dnd['Race'].value_counts().keys()"
   ]
  },
  {
   "cell_type": "code",
   "execution_count": 58,
   "id": "cdfc4e4a-7790-4245-9a50-a2120a09a9de",
   "metadata": {},
   "outputs": [
    {
     "data": {
      "text/plain": [
       "Index(['beast', 'dragon', 'monstrosity', 'humanoid (any race)', 'undead',\n",
       "       'elemental', 'swarm of tiny beasts', 'giant', 'fiend (devil)',\n",
       "       'construct', 'fiend (demon)', 'plant', 'fey', 'celestial', 'aberration',\n",
       "       'humanoid (human, shapechanger)', 'ooze', 'fiend',\n",
       "       'humanoid (goblinoid)', 'Fiend (Shapechanger)', 'monstrosity (titan)',\n",
       "       'monstrosity (shapechanger)', 'humanoid (grimlock)', 'humanoid (human)',\n",
       "       'humanoid (merfolk)', 'undead (shapechanger)', 'humanoid (gnoll)',\n",
       "       'fiend (shapechanger)', 'fiend (devil, shapechanger)',\n",
       "       'humanoid (kobold)', 'humanoid (elf)', 'humanoid (lizardfolk)',\n",
       "       'humanoid (dwarf)', 'humanoid (orc)', 'humanoid (sahuagin)',\n",
       "       'humanoid (gnome)'],\n",
       "      dtype='object')"
      ]
     },
     "execution_count": 58,
     "metadata": {},
     "output_type": "execute_result"
    }
   ],
   "source": [
    "dnd['Race'].value_counts().keys()"
   ]
  },
  {
   "cell_type": "code",
   "execution_count": 56,
   "id": "1b8753a5-bb5e-48fe-be06-3d1a919277a0",
   "metadata": {},
   "outputs": [
    {
     "data": {
      "text/plain": [
       "beast                             87\n",
       "dragon                            43\n",
       "monstrosity                       35\n",
       "humanoid (any race)               21\n",
       "undead                            17\n",
       "elemental                         16\n",
       "swarm of tiny beasts              10\n",
       "giant                             10\n",
       "fiend (devil)                      9\n",
       "construct                          9\n",
       "fiend (demon)                      8\n",
       "plant                              6\n",
       "fey                                6\n",
       "celestial                          6\n",
       "aberration                         5\n",
       "humanoid (human, shapechanger)     5\n",
       "ooze                               4\n",
       "fiend                              4\n",
       "humanoid (goblinoid)               3\n",
       "Fiend (Shapechanger)               2\n",
       "monstrosity (titan)                2\n",
       "monstrosity (shapechanger)         2\n",
       "humanoid (grimlock)                1\n",
       "humanoid (human)                   1\n",
       "humanoid (merfolk)                 1\n",
       "undead (shapechanger)              1\n",
       "humanoid (gnoll)                   1\n",
       "fiend (shapechanger)               1\n",
       "fiend (devil, shapechanger)        1\n",
       "humanoid (kobold)                  1\n",
       "humanoid (elf)                     1\n",
       "humanoid (lizardfolk)              1\n",
       "humanoid (dwarf)                   1\n",
       "humanoid (orc)                     1\n",
       "humanoid (sahuagin)                1\n",
       "humanoid (gnome)                   1\n",
       "Name: Race, dtype: int64"
      ]
     },
     "execution_count": 56,
     "metadata": {},
     "output_type": "execute_result"
    }
   ],
   "source": [
    "different_races_count"
   ]
  },
  {
   "cell_type": "code",
   "execution_count": 71,
   "id": "494ebf7b-c0f6-4f4f-b829-70986180aa1c",
   "metadata": {},
   "outputs": [
    {
     "data": {
      "image/png": "[encoded data removed]",
      "text/plain": [
       "<Figure size 1440x1080 with 1 Axes>"
      ]
     },
     "metadata": {
      "needs_background": "light"
     },
     "output_type": "display_data"
    }
   ],
   "source": [
    "# Plotting out a graph to show the monsters. A lot of humanoid variants. \n",
    "\n",
    "fig, ax = plt.subplots(figsize=(20,15))\n",
    "\n",
    "sns.barplot(ax=ax, x=different_races_count, y=different_races, palette='flare_r',data=dnd)\n",
    "\n",
    "plt.show()"
   ]
  },
  {
   "cell_type": "markdown",
   "id": "c3e49020-4040-4012-835e-984e91162d2f",
   "metadata": {},
   "source": [
    "Even if we combined all of the humanoid variants, the number of Beasts surpasses all other individual races by double. "
   ]
  }
 ],
 "metadata": {
  "kernelspec": {
   "display_name": "Python (learn-env)",
   "language": "python",
   "name": "learn-env"
  },
  "language_info": {
   "codemirror_mode": {
    "name": "ipython",
    "version": 3
   },
   "file_extension": ".py",
   "mimetype": "text/x-python",
   "name": "python",
   "nbconvert_exporter": "python",
   "pygments_lexer": "ipython3",
   "version": "3.8.5"
  }
 },
 "nbformat": 4,
 "nbformat_minor": 5
}
