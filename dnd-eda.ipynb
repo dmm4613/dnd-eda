{
 "cells": [
  {
   "cell_type": "markdown",
   "id": "f900fdca-7679-4c4a-9bc9-3ea61fd164e7",
   "metadata": {},
   "source": [
    "<figure>\n",
    "    <img src=\"../_images/dnd-logo.png\" alt=\"Dungeons and Dragons Logo!\"/>\n",
    "    <figure-caption>image from https://www.enworld.org/resources/d-d-5e-logo-pack.1043/</figure-caption>\n",
    "</figure>\n",
    "\n",
    "# An Analysis of Dungeons and Dragons 5ed Monsters \n",
    "## Using data found from [Patrick Gomes at Kaggle](https://www.kaggle.com/datasets/patrickgomes/dungeons-and-dragons-5e-monsters/data) I will look to see if I can answer a few questions regarding the diversity of monsters in Dungeons and Dragons Fifth Edition (to be called 5e for the remainder of this project). I will pose the following questions\n",
    "### 1. What are the most common monster types (shown as race in this data)?\n",
    "### 2. Is there a noticeable disparity between monster types?\n",
    "### 3. Is there any connection between monster type and alignment?\n",
    "### 4. Does monster size impact hit point amounts?\n",
    "### 5. Does a monster’s armor class have a correlation with its speed or hit points?"
   ]
  },
  {
   "cell_type": "code",
   "execution_count": 38,
   "id": "ef340d8c-67f2-4165-a327-a166a05a2955",
   "metadata": {},
   "outputs": [],
   "source": [
    "#import libraries used for data analysis\n",
    "import numpy as np\n",
    "import pandas as pd\n",
    "import matplotlib.pyplot as plt\n",
    "import seaborn as sns\n",
    "from matplotlib.markers import MarkerStyle"
   ]
  },
  {
   "cell_type": "code",
   "execution_count": 2,
   "id": "73f326a8-c2c5-4d99-bd21-a693b24b563e",
   "metadata": {},
   "outputs": [
    {
     "name": "stdout",
     "output_type": "stream",
     "text": [
      "<class 'pandas.core.frame.DataFrame'>\n",
      "RangeIndex: 324 entries, 0 to 323\n",
      "Data columns (total 7 columns):\n",
      " #   Column                  Non-Null Count  Dtype \n",
      "---  ------                  --------------  ----- \n",
      " 0   Name                    324 non-null    object\n",
      " 1   Size                    324 non-null    object\n",
      " 2   Race + alignment        324 non-null    object\n",
      " 3   HP                      324 non-null    object\n",
      " 4   Armor                   324 non-null    object\n",
      " 5   Speed                   324 non-null    object\n",
      " 6   Challenge rating  (XP)  324 non-null    object\n",
      "dtypes: object(7)\n",
      "memory usage: 17.8+ KB\n"
     ]
    }
   ],
   "source": [
    "#read in the CSV file and see a preview of the data\n",
    "dnd = pd.read_csv('Dd5e_monsters.csv')\n",
    "dnd.info()"
   ]
  },
  {
   "cell_type": "code",
   "execution_count": 3,
   "id": "25bb4c0c-935f-4515-804a-420bfffe8f53",
   "metadata": {},
   "outputs": [
    {
     "data": {
      "text/html": [
       "<div>\n",
       "<style scoped>\n",
       "    .dataframe tbody tr th:only-of-type {\n",
       "        vertical-align: middle;\n",
       "    }\n",
       "\n",
       "    .dataframe tbody tr th {\n",
       "        vertical-align: top;\n",
       "    }\n",
       "\n",
       "    .dataframe thead th {\n",
       "        text-align: right;\n",
       "    }\n",
       "</style>\n",
       "<table border=\"1\" class=\"dataframe\">\n",
       "  <thead>\n",
       "    <tr style=\"text-align: right;\">\n",
       "      <th></th>\n",
       "      <th>Name</th>\n",
       "      <th>Size</th>\n",
       "      <th>Race + alignment</th>\n",
       "      <th>HP</th>\n",
       "      <th>Armor</th>\n",
       "      <th>Speed</th>\n",
       "      <th>Challenge rating  (XP)</th>\n",
       "    </tr>\n",
       "  </thead>\n",
       "  <tbody>\n",
       "    <tr>\n",
       "      <th>0</th>\n",
       "      <td>Aboleth</td>\n",
       "      <td>Large</td>\n",
       "      <td>aberration, Lawful Evil</td>\n",
       "      <td>135 (18d10+36)</td>\n",
       "      <td>17 (Natural Armor)</td>\n",
       "      <td>10 ft., swim 40 ft.</td>\n",
       "      <td>10 (5,900 XP)</td>\n",
       "    </tr>\n",
       "    <tr>\n",
       "      <th>1</th>\n",
       "      <td>Acolyte</td>\n",
       "      <td>Medium</td>\n",
       "      <td>humanoid (any race), Any Alignment</td>\n",
       "      <td>9 (2d8)</td>\n",
       "      <td>10</td>\n",
       "      <td>30 ft.</td>\n",
       "      <td>1/4 (50 XP)</td>\n",
       "    </tr>\n",
       "    <tr>\n",
       "      <th>2</th>\n",
       "      <td>Adult Black Dragon</td>\n",
       "      <td>Huge</td>\n",
       "      <td>dragon, Chaotic Evil</td>\n",
       "      <td>195 (17d12+85)</td>\n",
       "      <td>19 (Natural Armor)</td>\n",
       "      <td>40 ft., fly 80 ft., swim 40 ft.</td>\n",
       "      <td>14 (11,500 XP)</td>\n",
       "    </tr>\n",
       "  </tbody>\n",
       "</table>\n",
       "</div>"
      ],
      "text/plain": [
       "                 Name    Size                    Race + alignment  \\\n",
       "0             Aboleth   Large             aberration, Lawful Evil   \n",
       "1             Acolyte  Medium  humanoid (any race), Any Alignment   \n",
       "2  Adult Black Dragon    Huge                dragon, Chaotic Evil   \n",
       "\n",
       "               HP               Armor                            Speed  \\\n",
       "0  135 (18d10+36)  17 (Natural Armor)              10 ft., swim 40 ft.   \n",
       "1         9 (2d8)                  10                           30 ft.   \n",
       "2  195 (17d12+85)  19 (Natural Armor)  40 ft., fly 80 ft., swim 40 ft.   \n",
       "\n",
       "  Challenge rating  (XP)  \n",
       "0          10 (5,900 XP)  \n",
       "1            1/4 (50 XP)  \n",
       "2         14 (11,500 XP)  "
      ]
     },
     "execution_count": 3,
     "metadata": {},
     "output_type": "execute_result"
    }
   ],
   "source": [
    "#look over the columns names and first three rows worth of data\n",
    "dnd.head(3)"
   ]
  },
  {
   "cell_type": "code",
   "execution_count": 4,
   "id": "bbc89a73-0e84-4ed3-aa3e-83b7fe422935",
   "metadata": {},
   "outputs": [
    {
     "data": {
      "text/plain": [
       "Name                      0\n",
       "Size                      0\n",
       "Race + alignment          0\n",
       "HP                        0\n",
       "Armor                     0\n",
       "Speed                     0\n",
       "Challenge rating  (XP)    0\n",
       "dtype: int64"
      ]
     },
     "execution_count": 4,
     "metadata": {},
     "output_type": "execute_result"
    }
   ],
   "source": [
    "#Check for any null values even those this data set looks pretty clean at a glance\n",
    "dnd.isnull().sum()"
   ]
  },
  {
   "cell_type": "markdown",
   "id": "37bb5479-e0f1-42fd-87e4-887ea55f8ef1",
   "metadata": {},
   "source": [
    "## What are the most common monster types (shown as race in this data)?\n",
    "\n",
    "To work on this question I plan on splitting up Race+Alignment into two separate columns"
   ]
  },
  {
   "cell_type": "code",
   "execution_count": 5,
   "id": "43db423d-fa7c-4379-8d7e-8f8782f25e0e",
   "metadata": {},
   "outputs": [],
   "source": [
    "# found that some of the data had multiple commas, so starting from the end of the string was the trick\n",
    "dnd[['Race','Alignment']] = dnd['Race + alignment'].str.rsplit(',', n=1, expand=True)\n",
    "dnd['Alignment'] = dnd['Alignment'].str.strip()\n"
   ]
  },
  {
   "cell_type": "code",
   "execution_count": 6,
   "id": "2b99c81a-7c6a-4326-996a-ebda340e352b",
   "metadata": {},
   "outputs": [],
   "source": [
    "# Let's also clean up some of the other columns for future discussion.\n",
    "dnd['Armor'] = dnd['Armor'].apply(lambda x: int(x.split(' (')[0]))\n",
    "dnd['HP'] = dnd['HP'].apply(lambda x: int(x.split(' (')[0]))\n"
   ]
  },
  {
   "cell_type": "code",
   "execution_count": 7,
   "id": "84735f60-0022-4d5e-9660-8d579df6fb78",
   "metadata": {},
   "outputs": [],
   "source": [
    "dnd = dnd.drop(['Race + alignment', 'Challenge rating  (XP)'], axis=1)"
   ]
  },
  {
   "cell_type": "code",
   "execution_count": 8,
   "id": "e2bc3970-efed-482e-ae82-1a35dcef5b86",
   "metadata": {},
   "outputs": [
    {
     "data": {
      "text/html": [
       "<div>\n",
       "<style scoped>\n",
       "    .dataframe tbody tr th:only-of-type {\n",
       "        vertical-align: middle;\n",
       "    }\n",
       "\n",
       "    .dataframe tbody tr th {\n",
       "        vertical-align: top;\n",
       "    }\n",
       "\n",
       "    .dataframe thead th {\n",
       "        text-align: right;\n",
       "    }\n",
       "</style>\n",
       "<table border=\"1\" class=\"dataframe\">\n",
       "  <thead>\n",
       "    <tr style=\"text-align: right;\">\n",
       "      <th></th>\n",
       "      <th>Name</th>\n",
       "      <th>Size</th>\n",
       "      <th>HP</th>\n",
       "      <th>Armor</th>\n",
       "      <th>Speed</th>\n",
       "      <th>Race</th>\n",
       "      <th>Alignment</th>\n",
       "    </tr>\n",
       "  </thead>\n",
       "  <tbody>\n",
       "    <tr>\n",
       "      <th>0</th>\n",
       "      <td>Aboleth</td>\n",
       "      <td>Large</td>\n",
       "      <td>135</td>\n",
       "      <td>17</td>\n",
       "      <td>10 ft., swim 40 ft.</td>\n",
       "      <td>aberration</td>\n",
       "      <td>Lawful Evil</td>\n",
       "    </tr>\n",
       "    <tr>\n",
       "      <th>1</th>\n",
       "      <td>Acolyte</td>\n",
       "      <td>Medium</td>\n",
       "      <td>9</td>\n",
       "      <td>10</td>\n",
       "      <td>30 ft.</td>\n",
       "      <td>humanoid (any race)</td>\n",
       "      <td>Any Alignment</td>\n",
       "    </tr>\n",
       "    <tr>\n",
       "      <th>2</th>\n",
       "      <td>Adult Black Dragon</td>\n",
       "      <td>Huge</td>\n",
       "      <td>195</td>\n",
       "      <td>19</td>\n",
       "      <td>40 ft., fly 80 ft., swim 40 ft.</td>\n",
       "      <td>dragon</td>\n",
       "      <td>Chaotic Evil</td>\n",
       "    </tr>\n",
       "    <tr>\n",
       "      <th>3</th>\n",
       "      <td>Adult Blue Dragon</td>\n",
       "      <td>Huge</td>\n",
       "      <td>225</td>\n",
       "      <td>19</td>\n",
       "      <td>40 ft., burrow 30 ft., fly 80 ft.</td>\n",
       "      <td>dragon</td>\n",
       "      <td>Lawful Evil</td>\n",
       "    </tr>\n",
       "    <tr>\n",
       "      <th>4</th>\n",
       "      <td>Adult Brass Dragon</td>\n",
       "      <td>Huge</td>\n",
       "      <td>172</td>\n",
       "      <td>18</td>\n",
       "      <td>40 ft., burrow 40 ft., fly 80 ft.</td>\n",
       "      <td>dragon</td>\n",
       "      <td>Chaotic Good</td>\n",
       "    </tr>\n",
       "  </tbody>\n",
       "</table>\n",
       "</div>"
      ],
      "text/plain": [
       "                 Name    Size   HP  Armor                              Speed  \\\n",
       "0             Aboleth   Large  135     17                10 ft., swim 40 ft.   \n",
       "1             Acolyte  Medium    9     10                             30 ft.   \n",
       "2  Adult Black Dragon    Huge  195     19    40 ft., fly 80 ft., swim 40 ft.   \n",
       "3   Adult Blue Dragon    Huge  225     19  40 ft., burrow 30 ft., fly 80 ft.   \n",
       "4  Adult Brass Dragon    Huge  172     18  40 ft., burrow 40 ft., fly 80 ft.   \n",
       "\n",
       "                  Race      Alignment  \n",
       "0           aberration    Lawful Evil  \n",
       "1  humanoid (any race)  Any Alignment  \n",
       "2               dragon   Chaotic Evil  \n",
       "3               dragon    Lawful Evil  \n",
       "4               dragon   Chaotic Good  "
      ]
     },
     "execution_count": 8,
     "metadata": {},
     "output_type": "execute_result"
    }
   ],
   "source": [
    "dnd.head()"
   ]
  },
  {
   "cell_type": "code",
   "execution_count": 17,
   "id": "494ebf7b-c0f6-4f4f-b829-70986180aa1c",
   "metadata": {},
   "outputs": [
    {
     "data": {
      "image/png": "[encoded data removed]",
      "text/plain": [
       "<Figure size 1440x1080 with 1 Axes>"
      ]
     },
     "metadata": {
      "needs_background": "light"
     },
     "output_type": "display_data"
    }
   ],
   "source": [
    "# Plotting out a graph to show the monsters. A lot of humanoid variants. \n",
    "different_races_count = dnd['Race'].value_counts()\n",
    "different_races = dnd['Race'].value_counts().keys()\n",
    "\n",
    "fig, ax = plt.subplots(figsize=(20,15))\n",
    "\n",
    "sns.barplot(ax=ax, x=different_races_count, y=different_races, palette='flare_r',data=dnd)\n",
    "\n",
    "plt.show()"
   ]
  },
  {
   "cell_type": "markdown",
   "id": "c3e49020-4040-4012-835e-984e91162d2f",
   "metadata": {},
   "source": [
    "Even if we combined all of the humanoid variants, the number of Beasts surpasses all other individual races by double. Let's try and combine the races into fewer categories."
   ]
  },
  {
   "cell_type": "code",
   "execution_count": 14,
   "id": "d3f94f2a-9a86-451a-9c08-7b8e771c1132",
   "metadata": {},
   "outputs": [],
   "source": [
    "dnd['Race'] = dnd['Race'].apply(lambda x: x.split(' ')[0])"
   ]
  },
  {
   "cell_type": "code",
   "execution_count": 18,
   "id": "9efb7395-2da2-4393-b3af-e6f5abda9e8a",
   "metadata": {},
   "outputs": [
    {
     "data": {
      "image/png": "[encoded data removed]",
      "text/plain": [
       "<Figure size 1440x1080 with 1 Axes>"
      ]
     },
     "metadata": {
      "needs_background": "light"
     },
     "output_type": "display_data"
    }
   ],
   "source": [
    "# let's recreate the graph from above \n",
    "different_races_count = dnd['Race'].value_counts()\n",
    "different_races = dnd['Race'].value_counts().keys()\n",
    "\n",
    "fig, ax = plt.subplots(figsize=(20,15))\n",
    "\n",
    "sns.barplot(ax=ax, x=different_races_count, y=different_races, palette='flare_r',data=dnd)\n",
    "\n",
    "plt.show()"
   ]
  },
  {
   "cell_type": "markdown",
   "id": "21e26851-10a6-4abf-8b41-e13bc319ace5",
   "metadata": {},
   "source": [
    "As we can see from the chart beasts are the most prevalent race in 5e"
   ]
  },
  {
   "cell_type": "markdown",
   "id": "ae87e720-f193-48b5-baf1-14355396a762",
   "metadata": {},
   "source": [
    "## Is there a noticeable disparity between monster types?"
   ]
  },
  {
   "cell_type": "code",
   "execution_count": 19,
   "id": "8d0db5de-133f-4627-9e54-6459a45697c8",
   "metadata": {},
   "outputs": [
    {
     "data": {
      "text/plain": [
       "20.25"
      ]
     },
     "execution_count": 19,
     "metadata": {},
     "output_type": "execute_result"
    }
   ],
   "source": [
    "dnd['Race'].value_counts().mean()"
   ]
  },
  {
   "cell_type": "markdown",
   "id": "6d0edd85-b25d-442a-9416-aa19fbf8b866",
   "metadata": {},
   "source": [
    "## Is there any connection between monster type and alignment?"
   ]
  },
  {
   "cell_type": "code",
   "execution_count": 20,
   "id": "c5f3b5e1-5126-4c73-96f3-c34e9ab4af7b",
   "metadata": {},
   "outputs": [
    {
     "data": {
      "text/plain": [
       "Unaligned                                   128\n",
       "Chaotic Evil                                 44\n",
       "Lawful Evil                                  37\n",
       "Neutral Evil                                 28\n",
       "Lawful Good                                  19\n",
       "Neutral                                      19\n",
       "Any Alignment                                15\n",
       "Chaotic Good                                 12\n",
       "Neutral Good                                  6\n",
       "Any Non-good Alignment                        4\n",
       "Chaotic Neutral                               3\n",
       "Lawful Neutral                                3\n",
       "Any Non-lawful Alignment                      2\n",
       "Any Chaotic Alignment                         1\n",
       "Any                                           1\n",
       "Neutral Good (50%) Or Neutral Evil (50%)      1\n",
       "Any Evil Alignment                            1\n",
       "Name: Alignment, dtype: int64"
      ]
     },
     "execution_count": 20,
     "metadata": {},
     "output_type": "execute_result"
    }
   ],
   "source": [
    "# Get an idea for which alignments we are looking at in the data\n",
    "dnd['Alignment'].value_counts()"
   ]
  },
  {
   "cell_type": "markdown",
   "id": "a5a4e7c5-c3da-4faa-b607-4d7804720fd3",
   "metadata": {},
   "source": [
    "There are 9 alignments (and unaligned) that we care about, so let's take a look at just the basic alignments"
   ]
  },
  {
   "cell_type": "code",
   "execution_count": 21,
   "id": "d173b2cd-d621-4680-968a-c590124cfc20",
   "metadata": {},
   "outputs": [
    {
     "data": {
      "text/html": [
       "<div>\n",
       "<style scoped>\n",
       "    .dataframe tbody tr th:only-of-type {\n",
       "        vertical-align: middle;\n",
       "    }\n",
       "\n",
       "    .dataframe tbody tr th {\n",
       "        vertical-align: top;\n",
       "    }\n",
       "\n",
       "    .dataframe thead th {\n",
       "        text-align: right;\n",
       "    }\n",
       "</style>\n",
       "<table border=\"1\" class=\"dataframe\">\n",
       "  <thead>\n",
       "    <tr style=\"text-align: right;\">\n",
       "      <th></th>\n",
       "      <th>Name</th>\n",
       "      <th>Size</th>\n",
       "      <th>HP</th>\n",
       "      <th>Armor</th>\n",
       "      <th>Speed</th>\n",
       "      <th>Race</th>\n",
       "      <th>Alignment</th>\n",
       "      <th>True Alignment</th>\n",
       "    </tr>\n",
       "  </thead>\n",
       "  <tbody>\n",
       "    <tr>\n",
       "      <th>0</th>\n",
       "      <td>Aboleth</td>\n",
       "      <td>Large</td>\n",
       "      <td>135</td>\n",
       "      <td>17</td>\n",
       "      <td>10 ft., swim 40 ft.</td>\n",
       "      <td>aberration</td>\n",
       "      <td>Lawful Evil</td>\n",
       "      <td>1</td>\n",
       "    </tr>\n",
       "    <tr>\n",
       "      <th>1</th>\n",
       "      <td>Acolyte</td>\n",
       "      <td>Medium</td>\n",
       "      <td>9</td>\n",
       "      <td>10</td>\n",
       "      <td>30 ft.</td>\n",
       "      <td>humanoid</td>\n",
       "      <td>Any Alignment</td>\n",
       "      <td>0</td>\n",
       "    </tr>\n",
       "    <tr>\n",
       "      <th>2</th>\n",
       "      <td>Adult Black Dragon</td>\n",
       "      <td>Huge</td>\n",
       "      <td>195</td>\n",
       "      <td>19</td>\n",
       "      <td>40 ft., fly 80 ft., swim 40 ft.</td>\n",
       "      <td>dragon</td>\n",
       "      <td>Chaotic Evil</td>\n",
       "      <td>1</td>\n",
       "    </tr>\n",
       "    <tr>\n",
       "      <th>3</th>\n",
       "      <td>Adult Blue Dragon</td>\n",
       "      <td>Huge</td>\n",
       "      <td>225</td>\n",
       "      <td>19</td>\n",
       "      <td>40 ft., burrow 30 ft., fly 80 ft.</td>\n",
       "      <td>dragon</td>\n",
       "      <td>Lawful Evil</td>\n",
       "      <td>1</td>\n",
       "    </tr>\n",
       "    <tr>\n",
       "      <th>4</th>\n",
       "      <td>Adult Brass Dragon</td>\n",
       "      <td>Huge</td>\n",
       "      <td>172</td>\n",
       "      <td>18</td>\n",
       "      <td>40 ft., burrow 40 ft., fly 80 ft.</td>\n",
       "      <td>dragon</td>\n",
       "      <td>Chaotic Good</td>\n",
       "      <td>1</td>\n",
       "    </tr>\n",
       "  </tbody>\n",
       "</table>\n",
       "</div>"
      ],
      "text/plain": [
       "                 Name    Size   HP  Armor                              Speed  \\\n",
       "0             Aboleth   Large  135     17                10 ft., swim 40 ft.   \n",
       "1             Acolyte  Medium    9     10                             30 ft.   \n",
       "2  Adult Black Dragon    Huge  195     19    40 ft., fly 80 ft., swim 40 ft.   \n",
       "3   Adult Blue Dragon    Huge  225     19  40 ft., burrow 30 ft., fly 80 ft.   \n",
       "4  Adult Brass Dragon    Huge  172     18  40 ft., burrow 40 ft., fly 80 ft.   \n",
       "\n",
       "         Race      Alignment  True Alignment  \n",
       "0  aberration    Lawful Evil               1  \n",
       "1    humanoid  Any Alignment               0  \n",
       "2      dragon   Chaotic Evil               1  \n",
       "3      dragon    Lawful Evil               1  \n",
       "4      dragon   Chaotic Good               1  "
      ]
     },
     "execution_count": 21,
     "metadata": {},
     "output_type": "execute_result"
    }
   ],
   "source": [
    "alignments = ['Unaligned', \n",
    "              'Chaotic Evil', 'Lawful Evil', 'Neutral Evil', \n",
    "              'Chaotic Good', 'Lawful Good', 'Neutral Good', \n",
    "              'Neutral', 'Chaotic Neutral', 'Lawful Neutral']\n",
    "\n",
    "dnd['True Alignment'] = dnd['Alignment'].apply(lambda alignment: 1 if alignment in alignments else 0)\n",
    "dnd.head()"
   ]
  },
  {
   "cell_type": "code",
   "execution_count": 22,
   "id": "082e54c9-9e3a-4268-8d90-bae5f6481c44",
   "metadata": {},
   "outputs": [
    {
     "data": {
      "text/plain": [
       "array(['Lawful Evil', 'Any Alignment', 'Chaotic Evil', 'Chaotic Good',\n",
       "       'Lawful Good', 'Neutral', 'Lawful Neutral', 'Unaligned',\n",
       "       'Any Non-good Alignment', 'Any Non-lawful Alignment',\n",
       "       'Neutral Evil', 'Any Chaotic Alignment', 'Neutral Good',\n",
       "       'Chaotic Neutral', 'Neutral Good (50%) Or Neutral Evil (50%)',\n",
       "       'Any', 'Any Evil Alignment'], dtype=object)"
      ]
     },
     "execution_count": 22,
     "metadata": {},
     "output_type": "execute_result"
    }
   ],
   "source": [
    "dnd['Alignment'].unique()"
   ]
  },
  {
   "cell_type": "code",
   "execution_count": 25,
   "id": "2214944a-a67c-4921-9661-13f9b78ba0df",
   "metadata": {},
   "outputs": [
    {
     "ename": "ValueError",
     "evalue": "The truth value of a Series is ambiguous. Use a.empty, a.bool(), a.item(), a.any() or a.all().",
     "output_type": "error",
     "traceback": [
      "\u001b[1;31m---------------------------------------------------------------------------\u001b[0m",
      "\u001b[1;31mValueError\u001b[0m                                Traceback (most recent call last)",
      "\u001b[1;32m<ipython-input-25-d9d6cf7e48c2>\u001b[0m in \u001b[0;36m<module>\u001b[1;34m\u001b[0m\n\u001b[0;32m      1\u001b[0m \u001b[0mtrue_alignments\u001b[0m \u001b[1;33m=\u001b[0m \u001b[0mdnd\u001b[0m\u001b[1;33m[\u001b[0m\u001b[0mdnd\u001b[0m\u001b[1;33m[\u001b[0m\u001b[1;34m'True Alignment'\u001b[0m\u001b[1;33m]\u001b[0m \u001b[1;33m==\u001b[0m \u001b[1;36m1\u001b[0m\u001b[1;33m]\u001b[0m\u001b[1;33m\u001b[0m\u001b[1;33m\u001b[0m\u001b[0m\n\u001b[0;32m      2\u001b[0m \u001b[1;33m\u001b[0m\u001b[0m\n\u001b[1;32m----> 3\u001b[1;33m \u001b[0msns\u001b[0m\u001b[1;33m.\u001b[0m\u001b[0mbarplot\u001b[0m\u001b[1;33m(\u001b[0m\u001b[0mx\u001b[0m\u001b[1;33m=\u001b[0m\u001b[0mtrue_alignments\u001b[0m\u001b[1;33m[\u001b[0m\u001b[1;34m'Race'\u001b[0m\u001b[1;33m]\u001b[0m\u001b[1;33m.\u001b[0m\u001b[0mvalue_counts\u001b[0m\u001b[1;33m(\u001b[0m\u001b[1;33m)\u001b[0m\u001b[1;33m,\u001b[0m \u001b[0my\u001b[0m\u001b[1;33m=\u001b[0m\u001b[0mtrue_alignments\u001b[0m\u001b[1;33m)\u001b[0m\u001b[1;33m\u001b[0m\u001b[1;33m\u001b[0m\u001b[0m\n\u001b[0m",
      "\u001b[1;32m~\\anaconda3\\envs\\learn-env\\lib\\site-packages\\seaborn\\_decorators.py\u001b[0m in \u001b[0;36minner_f\u001b[1;34m(*args, **kwargs)\u001b[0m\n\u001b[0;32m     44\u001b[0m             )\n\u001b[0;32m     45\u001b[0m         \u001b[0mkwargs\u001b[0m\u001b[1;33m.\u001b[0m\u001b[0mupdate\u001b[0m\u001b[1;33m(\u001b[0m\u001b[1;33m{\u001b[0m\u001b[0mk\u001b[0m\u001b[1;33m:\u001b[0m \u001b[0marg\u001b[0m \u001b[1;32mfor\u001b[0m \u001b[0mk\u001b[0m\u001b[1;33m,\u001b[0m \u001b[0marg\u001b[0m \u001b[1;32min\u001b[0m \u001b[0mzip\u001b[0m\u001b[1;33m(\u001b[0m\u001b[0msig\u001b[0m\u001b[1;33m.\u001b[0m\u001b[0mparameters\u001b[0m\u001b[1;33m,\u001b[0m \u001b[0margs\u001b[0m\u001b[1;33m)\u001b[0m\u001b[1;33m}\u001b[0m\u001b[1;33m)\u001b[0m\u001b[1;33m\u001b[0m\u001b[1;33m\u001b[0m\u001b[0m\n\u001b[1;32m---> 46\u001b[1;33m         \u001b[1;32mreturn\u001b[0m \u001b[0mf\u001b[0m\u001b[1;33m(\u001b[0m\u001b[1;33m**\u001b[0m\u001b[0mkwargs\u001b[0m\u001b[1;33m)\u001b[0m\u001b[1;33m\u001b[0m\u001b[1;33m\u001b[0m\u001b[0m\n\u001b[0m\u001b[0;32m     47\u001b[0m     \u001b[1;32mreturn\u001b[0m \u001b[0minner_f\u001b[0m\u001b[1;33m\u001b[0m\u001b[1;33m\u001b[0m\u001b[0m\n\u001b[0;32m     48\u001b[0m \u001b[1;33m\u001b[0m\u001b[0m\n",
      "\u001b[1;32m~\\anaconda3\\envs\\learn-env\\lib\\site-packages\\seaborn\\categorical.py\u001b[0m in \u001b[0;36mbarplot\u001b[1;34m(x, y, hue, data, order, hue_order, estimator, ci, n_boot, units, seed, orient, color, palette, saturation, errcolor, errwidth, capsize, dodge, ax, **kwargs)\u001b[0m\n\u001b[0;32m   3167\u001b[0m ):\n\u001b[0;32m   3168\u001b[0m \u001b[1;33m\u001b[0m\u001b[0m\n\u001b[1;32m-> 3169\u001b[1;33m     plotter = _BarPlotter(x, y, hue, data, order, hue_order,\n\u001b[0m\u001b[0;32m   3170\u001b[0m                           \u001b[0mestimator\u001b[0m\u001b[1;33m,\u001b[0m \u001b[0mci\u001b[0m\u001b[1;33m,\u001b[0m \u001b[0mn_boot\u001b[0m\u001b[1;33m,\u001b[0m \u001b[0munits\u001b[0m\u001b[1;33m,\u001b[0m \u001b[0mseed\u001b[0m\u001b[1;33m,\u001b[0m\u001b[1;33m\u001b[0m\u001b[1;33m\u001b[0m\u001b[0m\n\u001b[0;32m   3171\u001b[0m                           \u001b[0morient\u001b[0m\u001b[1;33m,\u001b[0m \u001b[0mcolor\u001b[0m\u001b[1;33m,\u001b[0m \u001b[0mpalette\u001b[0m\u001b[1;33m,\u001b[0m \u001b[0msaturation\u001b[0m\u001b[1;33m,\u001b[0m\u001b[1;33m\u001b[0m\u001b[1;33m\u001b[0m\u001b[0m\n",
      "\u001b[1;32m~\\anaconda3\\envs\\learn-env\\lib\\site-packages\\seaborn\\categorical.py\u001b[0m in \u001b[0;36m__init__\u001b[1;34m(self, x, y, hue, data, order, hue_order, estimator, ci, n_boot, units, seed, orient, color, palette, saturation, errcolor, errwidth, capsize, dodge)\u001b[0m\n\u001b[0;32m   1582\u001b[0m                  errwidth, capsize, dodge):\n\u001b[0;32m   1583\u001b[0m         \u001b[1;34m\"\"\"Initialize the plotter.\"\"\"\u001b[0m\u001b[1;33m\u001b[0m\u001b[1;33m\u001b[0m\u001b[0m\n\u001b[1;32m-> 1584\u001b[1;33m         self.establish_variables(x, y, hue, data, orient,\n\u001b[0m\u001b[0;32m   1585\u001b[0m                                  order, hue_order, units)\n\u001b[0;32m   1586\u001b[0m         \u001b[0mself\u001b[0m\u001b[1;33m.\u001b[0m\u001b[0mestablish_colors\u001b[0m\u001b[1;33m(\u001b[0m\u001b[0mcolor\u001b[0m\u001b[1;33m,\u001b[0m \u001b[0mpalette\u001b[0m\u001b[1;33m,\u001b[0m \u001b[0msaturation\u001b[0m\u001b[1;33m)\u001b[0m\u001b[1;33m\u001b[0m\u001b[1;33m\u001b[0m\u001b[0m\n",
      "\u001b[1;32m~\\anaconda3\\envs\\learn-env\\lib\\site-packages\\seaborn\\categorical.py\u001b[0m in \u001b[0;36mestablish_variables\u001b[1;34m(self, x, y, hue, data, orient, order, hue_order, units)\u001b[0m\n\u001b[0;32m    154\u001b[0m \u001b[1;33m\u001b[0m\u001b[0m\n\u001b[0;32m    155\u001b[0m             \u001b[1;31m# Figure out the plotting orientation\u001b[0m\u001b[1;33m\u001b[0m\u001b[1;33m\u001b[0m\u001b[1;33m\u001b[0m\u001b[0m\n\u001b[1;32m--> 156\u001b[1;33m             orient = infer_orient(\n\u001b[0m\u001b[0;32m    157\u001b[0m                 \u001b[0mx\u001b[0m\u001b[1;33m,\u001b[0m \u001b[0my\u001b[0m\u001b[1;33m,\u001b[0m \u001b[0morient\u001b[0m\u001b[1;33m,\u001b[0m \u001b[0mrequire_numeric\u001b[0m\u001b[1;33m=\u001b[0m\u001b[0mself\u001b[0m\u001b[1;33m.\u001b[0m\u001b[0mrequire_numeric\u001b[0m\u001b[1;33m\u001b[0m\u001b[1;33m\u001b[0m\u001b[0m\n\u001b[0;32m    158\u001b[0m             )\n",
      "\u001b[1;32m~\\anaconda3\\envs\\learn-env\\lib\\site-packages\\seaborn\\_core.py\u001b[0m in \u001b[0;36minfer_orient\u001b[1;34m(x, y, orient, require_numeric)\u001b[0m\n\u001b[0;32m   1287\u001b[0m \u001b[1;33m\u001b[0m\u001b[0m\n\u001b[0;32m   1288\u001b[0m     \u001b[0mx_type\u001b[0m \u001b[1;33m=\u001b[0m \u001b[1;32mNone\u001b[0m \u001b[1;32mif\u001b[0m \u001b[0mx\u001b[0m \u001b[1;32mis\u001b[0m \u001b[1;32mNone\u001b[0m \u001b[1;32melse\u001b[0m \u001b[0mvariable_type\u001b[0m\u001b[1;33m(\u001b[0m\u001b[0mx\u001b[0m\u001b[1;33m)\u001b[0m\u001b[1;33m\u001b[0m\u001b[1;33m\u001b[0m\u001b[0m\n\u001b[1;32m-> 1289\u001b[1;33m     \u001b[0my_type\u001b[0m \u001b[1;33m=\u001b[0m \u001b[1;32mNone\u001b[0m \u001b[1;32mif\u001b[0m \u001b[0my\u001b[0m \u001b[1;32mis\u001b[0m \u001b[1;32mNone\u001b[0m \u001b[1;32melse\u001b[0m \u001b[0mvariable_type\u001b[0m\u001b[1;33m(\u001b[0m\u001b[0my\u001b[0m\u001b[1;33m)\u001b[0m\u001b[1;33m\u001b[0m\u001b[1;33m\u001b[0m\u001b[0m\n\u001b[0m\u001b[0;32m   1290\u001b[0m \u001b[1;33m\u001b[0m\u001b[0m\n\u001b[0;32m   1291\u001b[0m     \u001b[0mnonnumeric_dv_error\u001b[0m \u001b[1;33m=\u001b[0m \u001b[1;34m\"{} orientation requires numeric `{}` variable.\"\u001b[0m\u001b[1;33m\u001b[0m\u001b[1;33m\u001b[0m\u001b[0m\n",
      "\u001b[1;32m~\\anaconda3\\envs\\learn-env\\lib\\site-packages\\seaborn\\_core.py\u001b[0m in \u001b[0;36mvariable_type\u001b[1;34m(vector, boolean_type)\u001b[0m\n\u001b[0;32m   1201\u001b[0m     \"\"\"\n\u001b[0;32m   1202\u001b[0m     \u001b[1;31m# Special-case all-na data, which is always \"numeric\"\u001b[0m\u001b[1;33m\u001b[0m\u001b[1;33m\u001b[0m\u001b[1;33m\u001b[0m\u001b[0m\n\u001b[1;32m-> 1203\u001b[1;33m     \u001b[1;32mif\u001b[0m \u001b[0mpd\u001b[0m\u001b[1;33m.\u001b[0m\u001b[0misna\u001b[0m\u001b[1;33m(\u001b[0m\u001b[0mvector\u001b[0m\u001b[1;33m)\u001b[0m\u001b[1;33m.\u001b[0m\u001b[0mall\u001b[0m\u001b[1;33m(\u001b[0m\u001b[1;33m)\u001b[0m\u001b[1;33m:\u001b[0m\u001b[1;33m\u001b[0m\u001b[1;33m\u001b[0m\u001b[0m\n\u001b[0m\u001b[0;32m   1204\u001b[0m         \u001b[1;32mreturn\u001b[0m \u001b[1;34m\"numeric\"\u001b[0m\u001b[1;33m\u001b[0m\u001b[1;33m\u001b[0m\u001b[0m\n\u001b[0;32m   1205\u001b[0m \u001b[1;33m\u001b[0m\u001b[0m\n",
      "\u001b[1;32m~\\anaconda3\\envs\\learn-env\\lib\\site-packages\\pandas\\core\\generic.py\u001b[0m in \u001b[0;36m__nonzero__\u001b[1;34m(self)\u001b[0m\n\u001b[0;32m   1327\u001b[0m \u001b[1;33m\u001b[0m\u001b[0m\n\u001b[0;32m   1328\u001b[0m     \u001b[1;32mdef\u001b[0m \u001b[0m__nonzero__\u001b[0m\u001b[1;33m(\u001b[0m\u001b[0mself\u001b[0m\u001b[1;33m)\u001b[0m\u001b[1;33m:\u001b[0m\u001b[1;33m\u001b[0m\u001b[1;33m\u001b[0m\u001b[0m\n\u001b[1;32m-> 1329\u001b[1;33m         raise ValueError(\n\u001b[0m\u001b[0;32m   1330\u001b[0m             \u001b[1;34mf\"The truth value of a {type(self).__name__} is ambiguous. \"\u001b[0m\u001b[1;33m\u001b[0m\u001b[1;33m\u001b[0m\u001b[0m\n\u001b[0;32m   1331\u001b[0m             \u001b[1;34m\"Use a.empty, a.bool(), a.item(), a.any() or a.all().\"\u001b[0m\u001b[1;33m\u001b[0m\u001b[1;33m\u001b[0m\u001b[0m\n",
      "\u001b[1;31mValueError\u001b[0m: The truth value of a Series is ambiguous. Use a.empty, a.bool(), a.item(), a.any() or a.all()."
     ]
    }
   ],
   "source": [
    "true_alignments = dnd[dnd['True Alignment'] == 1]\n",
    "\n",
    "sns.barplot(x=true_alignments['Race'].value_counts(), y=true_alignments)"
   ]
  },
  {
   "cell_type": "markdown",
   "id": "a1412b3f-b290-4b50-8595-4d8b1907a8ee",
   "metadata": {},
   "source": [
    "## Does monster size impact hit point amounts?"
   ]
  },
  {
   "cell_type": "code",
   "execution_count": 26,
   "id": "e3f4055f-d11c-4707-a867-368b73723783",
   "metadata": {},
   "outputs": [],
   "source": [
    "monster_size_and_hp = dnd[['Size', 'HP']]\n",
    "monster_size = monster_size_and_hp['Size']\n",
    "monster_hp = monster_size_and_hp['HP']"
   ]
  },
  {
   "cell_type": "code",
   "execution_count": 27,
   "id": "07d802c4-acca-42aa-92ac-4e6fc07442af",
   "metadata": {},
   "outputs": [
    {
     "data": {
      "text/plain": [
       "<AxesSubplot:xlabel='HP', ylabel='Size'>"
      ]
     },
     "execution_count": 27,
     "metadata": {},
     "output_type": "execute_result"
    },
    {
     "data": {
      "image/png": "[encoded data removed]",
      "text/plain": [
       "<Figure size 720x360 with 1 Axes>"
      ]
     },
     "metadata": {
      "needs_background": "light"
     },
     "output_type": "display_data"
    }
   ],
   "source": [
    "fig, ax = plt.subplots(figsize=(10,5))\n",
    "sns.barplot(x=monster_hp, y=monster_size, data=monster_size_and_hp)"
   ]
  },
  {
   "cell_type": "markdown",
   "id": "7c91a65f-6f94-4107-b9b5-a818c12c0b1b",
   "metadata": {},
   "source": [
    "Based off the chart above, the average HP for a monster is definitely associated with it's size. "
   ]
  },
  {
   "cell_type": "markdown",
   "id": "29074997-a930-43c2-99b1-6482066c97ec",
   "metadata": {},
   "source": [
    "## Does a monster’s armor class have a correlation with its speed or hit points?"
   ]
  },
  {
   "cell_type": "code",
   "execution_count": 41,
   "id": "e8d5f89e-18f8-45d1-b732-48deba9669f7",
   "metadata": {},
   "outputs": [],
   "source": [
    "#Let's associate the string values of size to numbers so they are ordered in the scatter plot\n",
    "MONSTER_SIZE_VALUE = {'Tiny': 1,\n",
    "                      'Small': 2,\n",
    "                      'Medium': 4,\n",
    "                      'Large': 8,\n",
    "                      'Huge': 16,\n",
    "                      'Gargantuan': 32}\n",
    "\n",
    "dnd['Size Value'] = dnd['Size'].map(MONSTER_SIZE_VALUE)"
   ]
  },
  {
   "cell_type": "code",
   "execution_count": 42,
   "id": "44c010c5-5e9a-48ea-94b1-738830ff8873",
   "metadata": {},
   "outputs": [
    {
     "data": {
      "text/html": [
       "<div>\n",
       "<style scoped>\n",
       "    .dataframe tbody tr th:only-of-type {\n",
       "        vertical-align: middle;\n",
       "    }\n",
       "\n",
       "    .dataframe tbody tr th {\n",
       "        vertical-align: top;\n",
       "    }\n",
       "\n",
       "    .dataframe thead th {\n",
       "        text-align: right;\n",
       "    }\n",
       "</style>\n",
       "<table border=\"1\" class=\"dataframe\">\n",
       "  <thead>\n",
       "    <tr style=\"text-align: right;\">\n",
       "      <th></th>\n",
       "      <th>Name</th>\n",
       "      <th>Size</th>\n",
       "      <th>HP</th>\n",
       "      <th>Armor</th>\n",
       "      <th>Speed</th>\n",
       "      <th>Race</th>\n",
       "      <th>Alignment</th>\n",
       "      <th>True Alignment</th>\n",
       "      <th>Size Value</th>\n",
       "    </tr>\n",
       "  </thead>\n",
       "  <tbody>\n",
       "    <tr>\n",
       "      <th>0</th>\n",
       "      <td>Aboleth</td>\n",
       "      <td>Large</td>\n",
       "      <td>135</td>\n",
       "      <td>17</td>\n",
       "      <td>10 ft., swim 40 ft.</td>\n",
       "      <td>aberration</td>\n",
       "      <td>Lawful Evil</td>\n",
       "      <td>1</td>\n",
       "      <td>8</td>\n",
       "    </tr>\n",
       "    <tr>\n",
       "      <th>1</th>\n",
       "      <td>Acolyte</td>\n",
       "      <td>Medium</td>\n",
       "      <td>9</td>\n",
       "      <td>10</td>\n",
       "      <td>30 ft.</td>\n",
       "      <td>humanoid</td>\n",
       "      <td>Any Alignment</td>\n",
       "      <td>0</td>\n",
       "      <td>4</td>\n",
       "    </tr>\n",
       "    <tr>\n",
       "      <th>2</th>\n",
       "      <td>Adult Black Dragon</td>\n",
       "      <td>Huge</td>\n",
       "      <td>195</td>\n",
       "      <td>19</td>\n",
       "      <td>40 ft., fly 80 ft., swim 40 ft.</td>\n",
       "      <td>dragon</td>\n",
       "      <td>Chaotic Evil</td>\n",
       "      <td>1</td>\n",
       "      <td>16</td>\n",
       "    </tr>\n",
       "    <tr>\n",
       "      <th>3</th>\n",
       "      <td>Adult Blue Dragon</td>\n",
       "      <td>Huge</td>\n",
       "      <td>225</td>\n",
       "      <td>19</td>\n",
       "      <td>40 ft., burrow 30 ft., fly 80 ft.</td>\n",
       "      <td>dragon</td>\n",
       "      <td>Lawful Evil</td>\n",
       "      <td>1</td>\n",
       "      <td>16</td>\n",
       "    </tr>\n",
       "    <tr>\n",
       "      <th>4</th>\n",
       "      <td>Adult Brass Dragon</td>\n",
       "      <td>Huge</td>\n",
       "      <td>172</td>\n",
       "      <td>18</td>\n",
       "      <td>40 ft., burrow 40 ft., fly 80 ft.</td>\n",
       "      <td>dragon</td>\n",
       "      <td>Chaotic Good</td>\n",
       "      <td>1</td>\n",
       "      <td>16</td>\n",
       "    </tr>\n",
       "  </tbody>\n",
       "</table>\n",
       "</div>"
      ],
      "text/plain": [
       "                 Name    Size   HP  Armor                              Speed  \\\n",
       "0             Aboleth   Large  135     17                10 ft., swim 40 ft.   \n",
       "1             Acolyte  Medium    9     10                             30 ft.   \n",
       "2  Adult Black Dragon    Huge  195     19    40 ft., fly 80 ft., swim 40 ft.   \n",
       "3   Adult Blue Dragon    Huge  225     19  40 ft., burrow 30 ft., fly 80 ft.   \n",
       "4  Adult Brass Dragon    Huge  172     18  40 ft., burrow 40 ft., fly 80 ft.   \n",
       "\n",
       "         Race      Alignment  True Alignment  Size Value  \n",
       "0  aberration    Lawful Evil               1           8  \n",
       "1    humanoid  Any Alignment               0           4  \n",
       "2      dragon   Chaotic Evil               1          16  \n",
       "3      dragon    Lawful Evil               1          16  \n",
       "4      dragon   Chaotic Good               1          16  "
      ]
     },
     "execution_count": 42,
     "metadata": {},
     "output_type": "execute_result"
    }
   ],
   "source": [
    "dnd.head()"
   ]
  },
  {
   "cell_type": "code",
   "execution_count": 51,
   "id": "9a5e59d4-42c8-4741-b008-fd04e3c05b9a",
   "metadata": {
    "scrolled": true
   },
   "outputs": [
    {
     "data": {
      "image/png": "[encoded data removed]",
      "text/plain": [
       "<Figure size 1440x720 with 1 Axes>"
      ]
     },
     "metadata": {
      "needs_background": "light"
     },
     "output_type": "display_data"
    }
   ],
   "source": [
    "monster_hp = dnd['HP']\n",
    "monster_armor = dnd['Armor']\n",
    "\n",
    "MONSTER_SYMBOLS = []\n",
    "\n",
    "fig,ax = plt.subplots(figsize=(20,10))\n",
    "\n",
    "sns.scatterplot(x=monster_hp, y=monster_armor, hue=dnd['Race'], size=dnd['Size Value'], sizes=(10, 500))\n",
    "ax.set_title('Monster HP vs. Monster Armor')\n",
    "plt.savefig('graphs/monster_hp_vs_armor.png')"
   ]
  },
  {
   "cell_type": "markdown",
   "id": "44482a04-6dba-4ce3-a147-72dc9d8d9e73",
   "metadata": {},
   "source": [
    "What is that dot in the top right???"
   ]
  },
  {
   "cell_type": "code",
   "execution_count": 30,
   "id": "fe26fada-7c64-44ca-802f-81978c042dca",
   "metadata": {},
   "outputs": [
    {
     "data": {
      "text/html": [
       "<div>\n",
       "<style scoped>\n",
       "    .dataframe tbody tr th:only-of-type {\n",
       "        vertical-align: middle;\n",
       "    }\n",
       "\n",
       "    .dataframe tbody tr th {\n",
       "        vertical-align: top;\n",
       "    }\n",
       "\n",
       "    .dataframe thead th {\n",
       "        text-align: right;\n",
       "    }\n",
       "</style>\n",
       "<table border=\"1\" class=\"dataframe\">\n",
       "  <thead>\n",
       "    <tr style=\"text-align: right;\">\n",
       "      <th></th>\n",
       "      <th>Name</th>\n",
       "      <th>Size</th>\n",
       "      <th>HP</th>\n",
       "      <th>Armor</th>\n",
       "      <th>Speed</th>\n",
       "      <th>Race</th>\n",
       "      <th>Alignment</th>\n",
       "      <th>True Alignment</th>\n",
       "    </tr>\n",
       "  </thead>\n",
       "  <tbody>\n",
       "    <tr>\n",
       "      <th>280</th>\n",
       "      <td>Tarrasque</td>\n",
       "      <td>Gargantuan</td>\n",
       "      <td>676</td>\n",
       "      <td>25</td>\n",
       "      <td>40 ft.</td>\n",
       "      <td>monstrosity</td>\n",
       "      <td>Unaligned</td>\n",
       "      <td>1</td>\n",
       "    </tr>\n",
       "  </tbody>\n",
       "</table>\n",
       "</div>"
      ],
      "text/plain": [
       "          Name        Size   HP  Armor   Speed         Race  Alignment  \\\n",
       "280  Tarrasque  Gargantuan  676     25  40 ft.  monstrosity  Unaligned   \n",
       "\n",
       "     True Alignment  \n",
       "280               1  "
      ]
     },
     "execution_count": 30,
     "metadata": {},
     "output_type": "execute_result"
    }
   ],
   "source": [
    "dnd[dnd['HP'] == dnd['HP'].max()]"
   ]
  },
  {
   "cell_type": "markdown",
   "id": "cb5a43b1-4490-4d6b-9edf-02691f207a35",
   "metadata": {},
   "source": [
    "The Tarrasque has the highest HPs and Armor class, making it a very powerful and strong opponent."
   ]
  }
 ],
 "metadata": {
  "kernelspec": {
   "display_name": "Python (learn-env)",
   "language": "python",
   "name": "learn-env"
  },
  "language_info": {
   "codemirror_mode": {
    "name": "ipython",
    "version": 3
   },
   "file_extension": ".py",
   "mimetype": "text/x-python",
   "name": "python",
   "nbconvert_exporter": "python",
   "pygments_lexer": "ipython3",
   "version": "3.8.5"
  }
 },
 "nbformat": 4,
 "nbformat_minor": 5
}
