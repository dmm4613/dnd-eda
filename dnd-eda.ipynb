{
 "cells": [
  {
   "cell_type": "markdown",
   "id": "f900fdca-7679-4c4a-9bc9-3ea61fd164e7",
   "metadata": {},
   "source": [
    "<figure>\n",
    "    <img src=\"../_images/dnd-logo.png\" alt=\"Dungeons and Dragons Logo!\"/>\n",
    "    <figure-caption>image from https://www.enworld.org/resources/d-d-5e-logo-pack.1043/</figure-caption>\n",
    "</figure>\n",
    "\n",
    "# An Analysis of Dungeons and Dragons 5ed Monsters \n",
    "## Using data found from [Patrick Gomes at Kaggle](https://www.kaggle.com/datasets/patrickgomes/dungeons-and-dragons-5e-monsters/data) I will look to see if I can answer a few questions regarding the diversity of monsters in Dungeons and Dragons Fifth Edition (to be called 5e for the remainder of this project). I will pose the following questions\n",
    "### 1. What are the most common monster types (shown as race in this data)?\n",
    "### 2. Is there a noticeable disparity between monster types?\n",
    "### 3. Is there any connection between monster type and alignment?\n",
    "### 4. Does monster size impact hit point amounts?\n",
    "### 5. Does a monster’s armor class have a correlation with its speed or hit points?"
   ]
  },
  {
   "cell_type": "code",
   "execution_count": 1,
   "id": "ef340d8c-67f2-4165-a327-a166a05a2955",
   "metadata": {},
   "outputs": [],
   "source": [
    "#import libraries used for data analysis\n",
    "import numpy as np\n",
    "import pandas as pd\n",
    "import matplotlib.pyplot as plt\n",
    "import seaborn as sns"
   ]
  },
  {
   "cell_type": "code",
   "execution_count": 2,
   "id": "73f326a8-c2c5-4d99-bd21-a693b24b563e",
   "metadata": {},
   "outputs": [
    {
     "name": "stdout",
     "output_type": "stream",
     "text": [
      "<class 'pandas.core.frame.DataFrame'>\n",
      "RangeIndex: 324 entries, 0 to 323\n",
      "Data columns (total 7 columns):\n",
      " #   Column                  Non-Null Count  Dtype \n",
      "---  ------                  --------------  ----- \n",
      " 0   Name                    324 non-null    object\n",
      " 1   Size                    324 non-null    object\n",
      " 2   Race + alignment        324 non-null    object\n",
      " 3   HP                      324 non-null    object\n",
      " 4   Armor                   324 non-null    object\n",
      " 5   Speed                   324 non-null    object\n",
      " 6   Challenge rating  (XP)  324 non-null    object\n",
      "dtypes: object(7)\n",
      "memory usage: 17.8+ KB\n"
     ]
    }
   ],
   "source": [
    "#read in the CSV file and see a preview of the data\n",
    "dnd = pd.read_csv('Dd5e_monsters.csv')\n",
    "dnd.info()"
   ]
  },
  {
   "cell_type": "code",
   "execution_count": 3,
   "id": "25bb4c0c-935f-4515-804a-420bfffe8f53",
   "metadata": {},
   "outputs": [
    {
     "data": {
      "text/html": [
       "<div>\n",
       "<style scoped>\n",
       "    .dataframe tbody tr th:only-of-type {\n",
       "        vertical-align: middle;\n",
       "    }\n",
       "\n",
       "    .dataframe tbody tr th {\n",
       "        vertical-align: top;\n",
       "    }\n",
       "\n",
       "    .dataframe thead th {\n",
       "        text-align: right;\n",
       "    }\n",
       "</style>\n",
       "<table border=\"1\" class=\"dataframe\">\n",
       "  <thead>\n",
       "    <tr style=\"text-align: right;\">\n",
       "      <th></th>\n",
       "      <th>Name</th>\n",
       "      <th>Size</th>\n",
       "      <th>Race + alignment</th>\n",
       "      <th>HP</th>\n",
       "      <th>Armor</th>\n",
       "      <th>Speed</th>\n",
       "      <th>Challenge rating  (XP)</th>\n",
       "    </tr>\n",
       "  </thead>\n",
       "  <tbody>\n",
       "    <tr>\n",
       "      <th>0</th>\n",
       "      <td>Aboleth</td>\n",
       "      <td>Large</td>\n",
       "      <td>aberration, Lawful Evil</td>\n",
       "      <td>135 (18d10+36)</td>\n",
       "      <td>17 (Natural Armor)</td>\n",
       "      <td>10 ft., swim 40 ft.</td>\n",
       "      <td>10 (5,900 XP)</td>\n",
       "    </tr>\n",
       "    <tr>\n",
       "      <th>1</th>\n",
       "      <td>Acolyte</td>\n",
       "      <td>Medium</td>\n",
       "      <td>humanoid (any race), Any Alignment</td>\n",
       "      <td>9 (2d8)</td>\n",
       "      <td>10</td>\n",
       "      <td>30 ft.</td>\n",
       "      <td>1/4 (50 XP)</td>\n",
       "    </tr>\n",
       "    <tr>\n",
       "      <th>2</th>\n",
       "      <td>Adult Black Dragon</td>\n",
       "      <td>Huge</td>\n",
       "      <td>dragon, Chaotic Evil</td>\n",
       "      <td>195 (17d12+85)</td>\n",
       "      <td>19 (Natural Armor)</td>\n",
       "      <td>40 ft., fly 80 ft., swim 40 ft.</td>\n",
       "      <td>14 (11,500 XP)</td>\n",
       "    </tr>\n",
       "  </tbody>\n",
       "</table>\n",
       "</div>"
      ],
      "text/plain": [
       "                 Name    Size                    Race + alignment  \\\n",
       "0             Aboleth   Large             aberration, Lawful Evil   \n",
       "1             Acolyte  Medium  humanoid (any race), Any Alignment   \n",
       "2  Adult Black Dragon    Huge                dragon, Chaotic Evil   \n",
       "\n",
       "               HP               Armor                            Speed  \\\n",
       "0  135 (18d10+36)  17 (Natural Armor)              10 ft., swim 40 ft.   \n",
       "1         9 (2d8)                  10                           30 ft.   \n",
       "2  195 (17d12+85)  19 (Natural Armor)  40 ft., fly 80 ft., swim 40 ft.   \n",
       "\n",
       "  Challenge rating  (XP)  \n",
       "0          10 (5,900 XP)  \n",
       "1            1/4 (50 XP)  \n",
       "2         14 (11,500 XP)  "
      ]
     },
     "execution_count": 3,
     "metadata": {},
     "output_type": "execute_result"
    }
   ],
   "source": [
    "#look over the columns names and first three rows worth of data\n",
    "dnd.head(3)"
   ]
  },
  {
   "cell_type": "code",
   "execution_count": 4,
   "id": "bbc89a73-0e84-4ed3-aa3e-83b7fe422935",
   "metadata": {},
   "outputs": [
    {
     "data": {
      "text/plain": [
       "Name                      0\n",
       "Size                      0\n",
       "Race + alignment          0\n",
       "HP                        0\n",
       "Armor                     0\n",
       "Speed                     0\n",
       "Challenge rating  (XP)    0\n",
       "dtype: int64"
      ]
     },
     "execution_count": 4,
     "metadata": {},
     "output_type": "execute_result"
    }
   ],
   "source": [
    "#Check for any null values even those this data set looks pretty clean at a glance\n",
    "dnd.isnull().sum()"
   ]
  },
  {
   "cell_type": "markdown",
   "id": "37bb5479-e0f1-42fd-87e4-887ea55f8ef1",
   "metadata": {},
   "source": [
    "## What are the most common monster types (shown as race in this data)?\n",
    "\n",
    "To work on this question I plan on splitting up Race+Alignment into two separate columns"
   ]
  },
  {
   "cell_type": "code",
   "execution_count": 46,
   "id": "43db423d-fa7c-4379-8d7e-8f8782f25e0e",
   "metadata": {},
   "outputs": [],
   "source": [
    "# found that some of the data had multiple commas, so starting from the end of the string was the trick\n",
    "dnd[['Race','Alignment']] = dnd['Race + alignment'].str.rsplit(',', n=1, expand=True)\n",
    "dnd['Alignment'] = dnd['Alignment'].str.strip()"
   ]
  },
  {
   "cell_type": "code",
   "execution_count": 6,
   "id": "2b99c81a-7c6a-4326-996a-ebda340e352b",
   "metadata": {},
   "outputs": [
    {
     "data": {
      "text/html": [
       "<div>\n",
       "<style scoped>\n",
       "    .dataframe tbody tr th:only-of-type {\n",
       "        vertical-align: middle;\n",
       "    }\n",
       "\n",
       "    .dataframe tbody tr th {\n",
       "        vertical-align: top;\n",
       "    }\n",
       "\n",
       "    .dataframe thead th {\n",
       "        text-align: right;\n",
       "    }\n",
       "</style>\n",
       "<table border=\"1\" class=\"dataframe\">\n",
       "  <thead>\n",
       "    <tr style=\"text-align: right;\">\n",
       "      <th></th>\n",
       "      <th>Name</th>\n",
       "      <th>Size</th>\n",
       "      <th>Race + alignment</th>\n",
       "      <th>HP</th>\n",
       "      <th>Armor</th>\n",
       "      <th>Speed</th>\n",
       "      <th>Challenge rating  (XP)</th>\n",
       "      <th>Race</th>\n",
       "      <th>Alignment</th>\n",
       "    </tr>\n",
       "  </thead>\n",
       "  <tbody>\n",
       "    <tr>\n",
       "      <th>0</th>\n",
       "      <td>Aboleth</td>\n",
       "      <td>Large</td>\n",
       "      <td>aberration, Lawful Evil</td>\n",
       "      <td>135 (18d10+36)</td>\n",
       "      <td>17 (Natural Armor)</td>\n",
       "      <td>10 ft., swim 40 ft.</td>\n",
       "      <td>10 (5,900 XP)</td>\n",
       "      <td>aberration</td>\n",
       "      <td>Lawful Evil</td>\n",
       "    </tr>\n",
       "    <tr>\n",
       "      <th>1</th>\n",
       "      <td>Acolyte</td>\n",
       "      <td>Medium</td>\n",
       "      <td>humanoid (any race), Any Alignment</td>\n",
       "      <td>9 (2d8)</td>\n",
       "      <td>10</td>\n",
       "      <td>30 ft.</td>\n",
       "      <td>1/4 (50 XP)</td>\n",
       "      <td>humanoid (any race)</td>\n",
       "      <td>Any Alignment</td>\n",
       "    </tr>\n",
       "    <tr>\n",
       "      <th>2</th>\n",
       "      <td>Adult Black Dragon</td>\n",
       "      <td>Huge</td>\n",
       "      <td>dragon, Chaotic Evil</td>\n",
       "      <td>195 (17d12+85)</td>\n",
       "      <td>19 (Natural Armor)</td>\n",
       "      <td>40 ft., fly 80 ft., swim 40 ft.</td>\n",
       "      <td>14 (11,500 XP)</td>\n",
       "      <td>dragon</td>\n",
       "      <td>Chaotic Evil</td>\n",
       "    </tr>\n",
       "    <tr>\n",
       "      <th>3</th>\n",
       "      <td>Adult Blue Dragon</td>\n",
       "      <td>Huge</td>\n",
       "      <td>dragon, Lawful Evil</td>\n",
       "      <td>225 (18d12+108)</td>\n",
       "      <td>19</td>\n",
       "      <td>40 ft., burrow 30 ft., fly 80 ft.</td>\n",
       "      <td>16 (15,000 XP)</td>\n",
       "      <td>dragon</td>\n",
       "      <td>Lawful Evil</td>\n",
       "    </tr>\n",
       "    <tr>\n",
       "      <th>4</th>\n",
       "      <td>Adult Brass Dragon</td>\n",
       "      <td>Huge</td>\n",
       "      <td>dragon, Chaotic Good</td>\n",
       "      <td>172 (15d12+75)</td>\n",
       "      <td>18 (Natural Armor)</td>\n",
       "      <td>40 ft., burrow 40 ft., fly 80 ft.</td>\n",
       "      <td>13 (10,000 XP)</td>\n",
       "      <td>dragon</td>\n",
       "      <td>Chaotic Good</td>\n",
       "    </tr>\n",
       "    <tr>\n",
       "      <th>...</th>\n",
       "      <td>...</td>\n",
       "      <td>...</td>\n",
       "      <td>...</td>\n",
       "      <td>...</td>\n",
       "      <td>...</td>\n",
       "      <td>...</td>\n",
       "      <td>...</td>\n",
       "      <td>...</td>\n",
       "      <td>...</td>\n",
       "    </tr>\n",
       "    <tr>\n",
       "      <th>319</th>\n",
       "      <td>Young Green Dragon</td>\n",
       "      <td>Large</td>\n",
       "      <td>dragon, Lawful Evil</td>\n",
       "      <td>136 (16d10+48)</td>\n",
       "      <td>18 (Natural Armor)</td>\n",
       "      <td>40 ft., fly 80 ft., swim 40 ft.</td>\n",
       "      <td>8 (3,900 XP)</td>\n",
       "      <td>dragon</td>\n",
       "      <td>Lawful Evil</td>\n",
       "    </tr>\n",
       "    <tr>\n",
       "      <th>320</th>\n",
       "      <td>Young Red Dragon</td>\n",
       "      <td>Large</td>\n",
       "      <td>dragon, Chaotic Evil</td>\n",
       "      <td>178 (17d10+85)</td>\n",
       "      <td>18 (Natural Armor)</td>\n",
       "      <td>40 ft., climb 40 ft., fly 80 ft.</td>\n",
       "      <td>10 (5,900 XP)</td>\n",
       "      <td>dragon</td>\n",
       "      <td>Chaotic Evil</td>\n",
       "    </tr>\n",
       "    <tr>\n",
       "      <th>321</th>\n",
       "      <td>Young Silver Dragon</td>\n",
       "      <td>Large</td>\n",
       "      <td>dragon, Lawful Good</td>\n",
       "      <td>168 (16d10+80)</td>\n",
       "      <td>18 (Natural Armor)</td>\n",
       "      <td>40 ft., fly 80 ft.</td>\n",
       "      <td>9 (5,000 XP)</td>\n",
       "      <td>dragon</td>\n",
       "      <td>Lawful Good</td>\n",
       "    </tr>\n",
       "    <tr>\n",
       "      <th>322</th>\n",
       "      <td>Young White Dragon</td>\n",
       "      <td>Large</td>\n",
       "      <td>dragon, Chaotic Evil</td>\n",
       "      <td>133 (14d10+56)</td>\n",
       "      <td>17 (Natural Armor)</td>\n",
       "      <td>40 ft., burrow 20 ft., fly 80 ft., swim 40 ft.</td>\n",
       "      <td>6 (2,300 XP)</td>\n",
       "      <td>dragon</td>\n",
       "      <td>Chaotic Evil</td>\n",
       "    </tr>\n",
       "    <tr>\n",
       "      <th>323</th>\n",
       "      <td>Zombie</td>\n",
       "      <td>Medium</td>\n",
       "      <td>undead, Neutral Evil</td>\n",
       "      <td>22 (3d8+9)</td>\n",
       "      <td>8</td>\n",
       "      <td>20 ft.</td>\n",
       "      <td>1/4 (50 XP)</td>\n",
       "      <td>undead</td>\n",
       "      <td>Neutral Evil</td>\n",
       "    </tr>\n",
       "  </tbody>\n",
       "</table>\n",
       "<p>324 rows × 9 columns</p>\n",
       "</div>"
      ],
      "text/plain": [
       "                    Name    Size                    Race + alignment  \\\n",
       "0                Aboleth   Large             aberration, Lawful Evil   \n",
       "1                Acolyte  Medium  humanoid (any race), Any Alignment   \n",
       "2     Adult Black Dragon    Huge                dragon, Chaotic Evil   \n",
       "3      Adult Blue Dragon    Huge                 dragon, Lawful Evil   \n",
       "4     Adult Brass Dragon    Huge                dragon, Chaotic Good   \n",
       "..                   ...     ...                                 ...   \n",
       "319   Young Green Dragon   Large                 dragon, Lawful Evil   \n",
       "320     Young Red Dragon   Large                dragon, Chaotic Evil   \n",
       "321  Young Silver Dragon   Large                 dragon, Lawful Good   \n",
       "322   Young White Dragon   Large                dragon, Chaotic Evil   \n",
       "323               Zombie  Medium                undead, Neutral Evil   \n",
       "\n",
       "                  HP               Armor  \\\n",
       "0     135 (18d10+36)  17 (Natural Armor)   \n",
       "1            9 (2d8)                  10   \n",
       "2     195 (17d12+85)  19 (Natural Armor)   \n",
       "3    225 (18d12+108)                  19   \n",
       "4     172 (15d12+75)  18 (Natural Armor)   \n",
       "..               ...                 ...   \n",
       "319   136 (16d10+48)  18 (Natural Armor)   \n",
       "320   178 (17d10+85)  18 (Natural Armor)   \n",
       "321   168 (16d10+80)  18 (Natural Armor)   \n",
       "322   133 (14d10+56)  17 (Natural Armor)   \n",
       "323       22 (3d8+9)                   8   \n",
       "\n",
       "                                              Speed Challenge rating  (XP)  \\\n",
       "0                               10 ft., swim 40 ft.          10 (5,900 XP)   \n",
       "1                                            30 ft.            1/4 (50 XP)   \n",
       "2                   40 ft., fly 80 ft., swim 40 ft.         14 (11,500 XP)   \n",
       "3                 40 ft., burrow 30 ft., fly 80 ft.         16 (15,000 XP)   \n",
       "4                 40 ft., burrow 40 ft., fly 80 ft.         13 (10,000 XP)   \n",
       "..                                              ...                    ...   \n",
       "319                 40 ft., fly 80 ft., swim 40 ft.           8 (3,900 XP)   \n",
       "320                40 ft., climb 40 ft., fly 80 ft.          10 (5,900 XP)   \n",
       "321                              40 ft., fly 80 ft.           9 (5,000 XP)   \n",
       "322  40 ft., burrow 20 ft., fly 80 ft., swim 40 ft.           6 (2,300 XP)   \n",
       "323                                          20 ft.            1/4 (50 XP)   \n",
       "\n",
       "                    Race       Alignment  \n",
       "0             aberration     Lawful Evil  \n",
       "1    humanoid (any race)   Any Alignment  \n",
       "2                 dragon    Chaotic Evil  \n",
       "3                 dragon     Lawful Evil  \n",
       "4                 dragon    Chaotic Good  \n",
       "..                   ...             ...  \n",
       "319               dragon     Lawful Evil  \n",
       "320               dragon    Chaotic Evil  \n",
       "321               dragon     Lawful Good  \n",
       "322               dragon    Chaotic Evil  \n",
       "323               undead    Neutral Evil  \n",
       "\n",
       "[324 rows x 9 columns]"
      ]
     },
     "execution_count": 6,
     "metadata": {},
     "output_type": "execute_result"
    }
   ],
   "source": [
    "dnd"
   ]
  },
  {
   "cell_type": "code",
   "execution_count": 7,
   "id": "7fd41649-9406-49db-b4d3-1a2190cd50a8",
   "metadata": {},
   "outputs": [],
   "source": [
    "different_races_count = dnd['Race'].value_counts()\n",
    "different_races = dnd['Race'].value_counts().keys()"
   ]
  },
  {
   "cell_type": "code",
   "execution_count": 8,
   "id": "cdfc4e4a-7790-4245-9a50-a2120a09a9de",
   "metadata": {},
   "outputs": [
    {
     "data": {
      "text/plain": [
       "Index(['beast', 'dragon', 'monstrosity', 'humanoid (any race)', 'undead',\n",
       "       'elemental', 'giant', 'swarm of tiny beasts', 'fiend (devil)',\n",
       "       'construct', 'fiend (demon)', 'fey', 'plant', 'celestial', 'aberration',\n",
       "       'humanoid (human, shapechanger)', 'ooze', 'fiend',\n",
       "       'humanoid (goblinoid)', 'monstrosity (shapechanger)',\n",
       "       'Fiend (Shapechanger)', 'monstrosity (titan)', 'humanoid (dwarf)',\n",
       "       'humanoid (gnome)', 'humanoid (merfolk)', 'humanoid (sahuagin)',\n",
       "       'humanoid (grimlock)', 'humanoid (gnoll)', 'humanoid (human)',\n",
       "       'fiend (devil, shapechanger)', 'humanoid (kobold)', 'humanoid (orc)',\n",
       "       'humanoid (lizardfolk)', 'humanoid (elf)', 'undead (shapechanger)',\n",
       "       'fiend (shapechanger)'],\n",
       "      dtype='object')"
      ]
     },
     "execution_count": 8,
     "metadata": {},
     "output_type": "execute_result"
    }
   ],
   "source": [
    "dnd['Race'].value_counts().keys()"
   ]
  },
  {
   "cell_type": "code",
   "execution_count": 9,
   "id": "1b8753a5-bb5e-48fe-be06-3d1a919277a0",
   "metadata": {},
   "outputs": [
    {
     "data": {
      "text/plain": [
       "beast                             87\n",
       "dragon                            43\n",
       "monstrosity                       35\n",
       "humanoid (any race)               21\n",
       "undead                            17\n",
       "elemental                         16\n",
       "giant                             10\n",
       "swarm of tiny beasts              10\n",
       "fiend (devil)                      9\n",
       "construct                          9\n",
       "fiend (demon)                      8\n",
       "fey                                6\n",
       "plant                              6\n",
       "celestial                          6\n",
       "aberration                         5\n",
       "humanoid (human, shapechanger)     5\n",
       "ooze                               4\n",
       "fiend                              4\n",
       "humanoid (goblinoid)               3\n",
       "monstrosity (shapechanger)         2\n",
       "Fiend (Shapechanger)               2\n",
       "monstrosity (titan)                2\n",
       "humanoid (dwarf)                   1\n",
       "humanoid (gnome)                   1\n",
       "humanoid (merfolk)                 1\n",
       "humanoid (sahuagin)                1\n",
       "humanoid (grimlock)                1\n",
       "humanoid (gnoll)                   1\n",
       "humanoid (human)                   1\n",
       "fiend (devil, shapechanger)        1\n",
       "humanoid (kobold)                  1\n",
       "humanoid (orc)                     1\n",
       "humanoid (lizardfolk)              1\n",
       "humanoid (elf)                     1\n",
       "undead (shapechanger)              1\n",
       "fiend (shapechanger)               1\n",
       "Name: Race, dtype: int64"
      ]
     },
     "execution_count": 9,
     "metadata": {},
     "output_type": "execute_result"
    }
   ],
   "source": [
    "different_races_count"
   ]
  },
  {
   "cell_type": "code",
   "execution_count": 10,
   "id": "494ebf7b-c0f6-4f4f-b829-70986180aa1c",
   "metadata": {},
   "outputs": [
    {
     "data": {
      "image/png": "[encoded data removed]",
      "text/plain": [
       "<Figure size 1440x1080 with 1 Axes>"
      ]
     },
     "metadata": {
      "needs_background": "light"
     },
     "output_type": "display_data"
    }
   ],
   "source": [
    "# Plotting out a graph to show the monsters. A lot of humanoid variants. \n",
    "\n",
    "fig, ax = plt.subplots(figsize=(20,15))\n",
    "\n",
    "sns.barplot(ax=ax, x=different_races_count, y=different_races, palette='flare_r',data=dnd)\n",
    "\n",
    "plt.show()"
   ]
  },
  {
   "cell_type": "code",
   "execution_count": 11,
   "id": "67830243-8fc8-4851-9777-2de699fd79f0",
   "metadata": {},
   "outputs": [
    {
     "data": {
      "image/png": "[encoded data removed]",
      "text/plain": [
       "<Figure size 1440x1080 with 1 Axes>"
      ]
     },
     "metadata": {
      "needs_background": "light"
     },
     "output_type": "display_data"
    }
   ],
   "source": [
    "# Let's turn this into a function so we can change parameters more easily.\n",
    "def plot_monster_races(x, y, data=None):\n",
    "    fig, ax = plt.subplots(figsize=(20,15))\n",
    "\n",
    "    ax=sns.barplot(ax=ax, x=x, y=y, palette='flare_r',data=data)\n",
    "    # for b in x:\n",
    "    #     ax.bar_label(b)\n",
    "    plt.show()\n",
    "\n",
    "plot_monster_races(different_races_count, different_races, dnd)\n",
    "    "
   ]
  },
  {
   "cell_type": "markdown",
   "id": "c3e49020-4040-4012-835e-984e91162d2f",
   "metadata": {},
   "source": [
    "Even if we combined all of the humanoid variants, the number of Beasts surpasses all other individual races by double. Let's try and combine the races into fewer categories."
   ]
  },
  {
   "cell_type": "markdown",
   "id": "ae87e720-f193-48b5-baf1-14355396a762",
   "metadata": {},
   "source": [
    "## Is there a noticeable disparity between monster types?"
   ]
  },
  {
   "cell_type": "code",
   "execution_count": 40,
   "id": "8d0db5de-133f-4627-9e54-6459a45697c8",
   "metadata": {},
   "outputs": [
    {
     "data": {
      "image/png": "[encoded data removed]",
      "text/plain": [
       "<Figure size 1440x1080 with 1 Axes>"
      ]
     },
     "metadata": {
      "needs_background": "light"
     },
     "output_type": "display_data"
    }
   ],
   "source": [
    "dnd_races = dnd['Race']\n",
    "races_dict = dict()\n",
    "for race in dnd_races:\n",
    "    category = race.split(\" \")[0].lower().strip()\n",
    "    races_dict[category] = races_dict.get(category, 0)+1\n",
    "races_dict = dict(sorted(races_dict.items(), key=lambda item: item[1]))\n",
    "races_dict\n",
    "\n",
    "vals = list(races_dict.values())\n",
    "races = list(races_dict.keys())\n",
    "plot_monster_races(vals, races)"
   ]
  },
  {
   "cell_type": "markdown",
   "id": "6d0edd85-b25d-442a-9416-aa19fbf8b866",
   "metadata": {},
   "source": [
    "## Is there any connection between monster type and alignment?"
   ]
  },
  {
   "cell_type": "code",
   "execution_count": 42,
   "id": "c5f3b5e1-5126-4c73-96f3-c34e9ab4af7b",
   "metadata": {},
   "outputs": [
    {
     "data": {
      "text/plain": [
       " Unaligned                                   128\n",
       " Chaotic Evil                                 44\n",
       " Lawful Evil                                  37\n",
       " Neutral Evil                                 28\n",
       " Lawful Good                                  19\n",
       " Neutral                                      19\n",
       " Any Alignment                                15\n",
       " Chaotic Good                                 12\n",
       " Neutral Good                                  6\n",
       " Any Non-good Alignment                        4\n",
       " Lawful Neutral                                3\n",
       " Chaotic Neutral                               3\n",
       " Any Non-lawful Alignment                      2\n",
       " Any Evil Alignment                            1\n",
       " Any                                           1\n",
       " Neutral Good (50%) Or Neutral Evil (50%)      1\n",
       " Any Chaotic Alignment                         1\n",
       "Name: Alignment, dtype: int64"
      ]
     },
     "execution_count": 42,
     "metadata": {},
     "output_type": "execute_result"
    }
   ],
   "source": [
    "# Get an idea for which alignments we are looking at in the data\n",
    "dnd['Alignment'].value_counts()"
   ]
  },
  {
   "cell_type": "markdown",
   "id": "a5a4e7c5-c3da-4faa-b607-4d7804720fd3",
   "metadata": {},
   "source": [
    "There are 9 alignments (and unaligned) that we care about, so let's take a look at just the basic alignments"
   ]
  },
  {
   "cell_type": "code",
   "execution_count": 57,
   "id": "d173b2cd-d621-4680-968a-c590124cfc20",
   "metadata": {},
   "outputs": [
    {
     "data": {
      "text/html": [
       "<div>\n",
       "<style scoped>\n",
       "    .dataframe tbody tr th:only-of-type {\n",
       "        vertical-align: middle;\n",
       "    }\n",
       "\n",
       "    .dataframe tbody tr th {\n",
       "        vertical-align: top;\n",
       "    }\n",
       "\n",
       "    .dataframe thead th {\n",
       "        text-align: right;\n",
       "    }\n",
       "</style>\n",
       "<table border=\"1\" class=\"dataframe\">\n",
       "  <thead>\n",
       "    <tr style=\"text-align: right;\">\n",
       "      <th></th>\n",
       "      <th>Name</th>\n",
       "      <th>Size</th>\n",
       "      <th>Race + alignment</th>\n",
       "      <th>HP</th>\n",
       "      <th>Armor</th>\n",
       "      <th>Speed</th>\n",
       "      <th>Challenge rating  (XP)</th>\n",
       "      <th>Race</th>\n",
       "      <th>Alignment</th>\n",
       "      <th>True Alignment</th>\n",
       "    </tr>\n",
       "  </thead>\n",
       "  <tbody>\n",
       "    <tr>\n",
       "      <th>0</th>\n",
       "      <td>Aboleth</td>\n",
       "      <td>Large</td>\n",
       "      <td>aberration, Lawful Evil</td>\n",
       "      <td>135 (18d10+36)</td>\n",
       "      <td>17 (Natural Armor)</td>\n",
       "      <td>10 ft., swim 40 ft.</td>\n",
       "      <td>10 (5,900 XP)</td>\n",
       "      <td>aberration</td>\n",
       "      <td>Lawful Evil</td>\n",
       "      <td>1</td>\n",
       "    </tr>\n",
       "    <tr>\n",
       "      <th>1</th>\n",
       "      <td>Acolyte</td>\n",
       "      <td>Medium</td>\n",
       "      <td>humanoid (any race), Any Alignment</td>\n",
       "      <td>9 (2d8)</td>\n",
       "      <td>10</td>\n",
       "      <td>30 ft.</td>\n",
       "      <td>1/4 (50 XP)</td>\n",
       "      <td>humanoid (any race)</td>\n",
       "      <td>Any Alignment</td>\n",
       "      <td>0</td>\n",
       "    </tr>\n",
       "    <tr>\n",
       "      <th>2</th>\n",
       "      <td>Adult Black Dragon</td>\n",
       "      <td>Huge</td>\n",
       "      <td>dragon, Chaotic Evil</td>\n",
       "      <td>195 (17d12+85)</td>\n",
       "      <td>19 (Natural Armor)</td>\n",
       "      <td>40 ft., fly 80 ft., swim 40 ft.</td>\n",
       "      <td>14 (11,500 XP)</td>\n",
       "      <td>dragon</td>\n",
       "      <td>Chaotic Evil</td>\n",
       "      <td>1</td>\n",
       "    </tr>\n",
       "    <tr>\n",
       "      <th>3</th>\n",
       "      <td>Adult Blue Dragon</td>\n",
       "      <td>Huge</td>\n",
       "      <td>dragon, Lawful Evil</td>\n",
       "      <td>225 (18d12+108)</td>\n",
       "      <td>19</td>\n",
       "      <td>40 ft., burrow 30 ft., fly 80 ft.</td>\n",
       "      <td>16 (15,000 XP)</td>\n",
       "      <td>dragon</td>\n",
       "      <td>Lawful Evil</td>\n",
       "      <td>1</td>\n",
       "    </tr>\n",
       "    <tr>\n",
       "      <th>4</th>\n",
       "      <td>Adult Brass Dragon</td>\n",
       "      <td>Huge</td>\n",
       "      <td>dragon, Chaotic Good</td>\n",
       "      <td>172 (15d12+75)</td>\n",
       "      <td>18 (Natural Armor)</td>\n",
       "      <td>40 ft., burrow 40 ft., fly 80 ft.</td>\n",
       "      <td>13 (10,000 XP)</td>\n",
       "      <td>dragon</td>\n",
       "      <td>Chaotic Good</td>\n",
       "      <td>1</td>\n",
       "    </tr>\n",
       "  </tbody>\n",
       "</table>\n",
       "</div>"
      ],
      "text/plain": [
       "                 Name    Size                    Race + alignment  \\\n",
       "0             Aboleth   Large             aberration, Lawful Evil   \n",
       "1             Acolyte  Medium  humanoid (any race), Any Alignment   \n",
       "2  Adult Black Dragon    Huge                dragon, Chaotic Evil   \n",
       "3   Adult Blue Dragon    Huge                 dragon, Lawful Evil   \n",
       "4  Adult Brass Dragon    Huge                dragon, Chaotic Good   \n",
       "\n",
       "                HP               Armor                              Speed  \\\n",
       "0   135 (18d10+36)  17 (Natural Armor)                10 ft., swim 40 ft.   \n",
       "1          9 (2d8)                  10                             30 ft.   \n",
       "2   195 (17d12+85)  19 (Natural Armor)    40 ft., fly 80 ft., swim 40 ft.   \n",
       "3  225 (18d12+108)                  19  40 ft., burrow 30 ft., fly 80 ft.   \n",
       "4   172 (15d12+75)  18 (Natural Armor)  40 ft., burrow 40 ft., fly 80 ft.   \n",
       "\n",
       "  Challenge rating  (XP)                 Race      Alignment  True Alignment  \n",
       "0          10 (5,900 XP)           aberration    Lawful Evil               1  \n",
       "1            1/4 (50 XP)  humanoid (any race)  Any Alignment               0  \n",
       "2         14 (11,500 XP)               dragon   Chaotic Evil               1  \n",
       "3         16 (15,000 XP)               dragon    Lawful Evil               1  \n",
       "4         13 (10,000 XP)               dragon   Chaotic Good               1  "
      ]
     },
     "execution_count": 57,
     "metadata": {},
     "output_type": "execute_result"
    }
   ],
   "source": [
    "alignments = ['Unaligned', \n",
    "              'Chaotic Evil', 'Lawful Evil', 'Neutral Evil', \n",
    "              'Chaotic Good', 'Lawful Good', 'Neutral Good', \n",
    "              'Neutral', 'Chaotic Neutral', 'Lawful Neutral']\n",
    "\n",
    "dnd['True Alignment'] = dnd['Alignment'].apply(lambda alignment: 1 if alignment in alignments else 0)\n",
    "dnd.head()"
   ]
  },
  {
   "cell_type": "code",
   "execution_count": 38,
   "id": "082e54c9-9e3a-4268-8d90-bae5f6481c44",
   "metadata": {},
   "outputs": [
    {
     "data": {
      "text/plain": [
       "array([' Lawful Evil', ' Any Alignment', ' Chaotic Evil', ' Chaotic Good',\n",
       "       ' Lawful Good', ' Neutral', ' Lawful Neutral', ' Unaligned',\n",
       "       ' Any Non-good Alignment', ' Any Non-lawful Alignment',\n",
       "       ' Neutral Evil', ' Any Chaotic Alignment', ' Neutral Good',\n",
       "       ' Chaotic Neutral', ' Neutral Good (50%) Or Neutral Evil (50%)',\n",
       "       ' Any', ' Any Evil Alignment'], dtype=object)"
      ]
     },
     "execution_count": 38,
     "metadata": {},
     "output_type": "execute_result"
    }
   ],
   "source": [
    "dnd['Alignment'].unique()"
   ]
  },
  {
   "cell_type": "code",
   "execution_count": 62,
   "id": "2214944a-a67c-4921-9661-13f9b78ba0df",
   "metadata": {},
   "outputs": [
    {
     "data": {
      "text/plain": [
       "<AxesSubplot:xlabel='Race', ylabel='Alignment'>"
      ]
     },
     "execution_count": 62,
     "metadata": {},
     "output_type": "execute_result"
    },
    {
     "data": {
      "image/png": "[encoded data removed]",
      "text/plain": [
       "<Figure size 432x288 with 1 Axes>"
      ]
     },
     "metadata": {
      "needs_background": "light"
     },
     "output_type": "display_data"
    }
   ],
   "source": [
    "true_alignments = dnd[dnd['True Alignment'] == 1]\n",
    "\n",
    "sns.boxplot(x=true_alignments['Race'].value_counts(), y=true_alignments['Alignment'])"
   ]
  },
  {
   "cell_type": "markdown",
   "id": "a1412b3f-b290-4b50-8595-4d8b1907a8ee",
   "metadata": {},
   "source": [
    "## Does monster size impact hit point amounts?"
   ]
  },
  {
   "cell_type": "code",
   "execution_count": 24,
   "id": "e3f4055f-d11c-4707-a867-368b73723783",
   "metadata": {},
   "outputs": [],
   "source": [
    "monster_size_and_hp = dnd[['Size', 'HP']]\n",
    "monster_size = monster_size_and_hp['Size']\n",
    "monster_hp = monster_size_and_hp['HP']"
   ]
  },
  {
   "cell_type": "code",
   "execution_count": 49,
   "id": "07d802c4-acca-42aa-92ac-4e6fc07442af",
   "metadata": {},
   "outputs": [
    {
     "data": {
      "text/plain": [
       "<AxesSubplot:xlabel='HP', ylabel='Size'>"
      ]
     },
     "execution_count": 49,
     "metadata": {},
     "output_type": "execute_result"
    },
    {
     "data": {
      "image/png": "[encoded data removed]",
      "text/plain": [
       "<Figure size 720x360 with 1 Axes>"
      ]
     },
     "metadata": {
      "needs_background": "light"
     },
     "output_type": "display_data"
    }
   ],
   "source": [
    "fig, ax = plt.subplots(figsize=(10,5))\n",
    "sns.scatterplot(x=monster_hp, y=monster_size, data=monster_size_and_hp)"
   ]
  },
  {
   "cell_type": "markdown",
   "id": "29074997-a930-43c2-99b1-6482066c97ec",
   "metadata": {},
   "source": [
    "## Does a monster’s armor class have a correlation with its speed or hit points?"
   ]
  }
 ],
 "metadata": {
  "kernelspec": {
   "display_name": "Python (learn-env)",
   "language": "python",
   "name": "learn-env"
  },
  "language_info": {
   "codemirror_mode": {
    "name": "ipython",
    "version": 3
   },
   "file_extension": ".py",
   "mimetype": "text/x-python",
   "name": "python",
   "nbconvert_exporter": "python",
   "pygments_lexer": "ipython3",
   "version": "3.8.5"
  }
 },
 "nbformat": 4,
 "nbformat_minor": 5
}
