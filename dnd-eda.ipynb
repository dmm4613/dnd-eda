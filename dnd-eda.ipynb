{
 "cells": [
  {
   "cell_type": "markdown",
   "id": "f900fdca-7679-4c4a-9bc9-3ea61fd164e7",
   "metadata": {},
   "source": [
    "<figure>\n",
    "    <img src=\"../_images/dnd-logo.png\" alt=\"Dungeons and Dragons Logo!\"/>\n",
    "    <figure-caption>image from https://www.enworld.org/resources/d-d-5e-logo-pack.1043/</figure-caption>\n",
    "</figure>\n",
    "\n",
    "# An Analysis of Dungeons and Dragons 5ed Monsters \n",
    "## Using data found from [Patrick Gomes at Kaggle](https://www.kaggle.com/datasets/patrickgomes/dungeons-and-dragons-5e-monsters/data) I will look to see if I can answer a few questions regarding the diversity of monsters in Dungeons and Dragons Fifth Edition (to be called 5e for the remainder of this project). I will pose the following questions\n",
    "### 1. What are the most common monster types (shown as race in this data)?\n",
    "### 2. Is there a noticeable disparity between monster types?\n",
    "### 3. Is there any connection between monster type and alignment?\n",
    "### 4. Does monster size impact hit point amounts?\n",
    "### 5. Does a monster’s armor class have a correlation with its speed or hit points?"
   ]
  },
  {
   "cell_type": "code",
   "execution_count": 1,
   "id": "ef340d8c-67f2-4165-a327-a166a05a2955",
   "metadata": {},
   "outputs": [],
   "source": [
    "#import libraries used for data analysis\n",
    "import numpy as np\n",
    "import pandas as pd\n",
    "import matplotlib.pyplot as plt\n",
    "import seaborn as sns"
   ]
  },
  {
   "cell_type": "code",
   "execution_count": 2,
   "id": "73f326a8-c2c5-4d99-bd21-a693b24b563e",
   "metadata": {},
   "outputs": [
    {
     "name": "stdout",
     "output_type": "stream",
     "text": [
      "<class 'pandas.core.frame.DataFrame'>\n",
      "RangeIndex: 324 entries, 0 to 323\n",
      "Data columns (total 7 columns):\n",
      " #   Column                  Non-Null Count  Dtype \n",
      "---  ------                  --------------  ----- \n",
      " 0   Name                    324 non-null    object\n",
      " 1   Size                    324 non-null    object\n",
      " 2   Race + alignment        324 non-null    object\n",
      " 3   HP                      324 non-null    object\n",
      " 4   Armor                   324 non-null    object\n",
      " 5   Speed                   324 non-null    object\n",
      " 6   Challenge rating  (XP)  324 non-null    object\n",
      "dtypes: object(7)\n",
      "memory usage: 17.8+ KB\n"
     ]
    }
   ],
   "source": [
    "#read in the CSV file and see a preview of the data\n",
    "dnd = pd.read_csv('Dd5e_monsters.csv')\n",
    "dnd.info()"
   ]
  },
  {
   "cell_type": "code",
   "execution_count": 3,
   "id": "25bb4c0c-935f-4515-804a-420bfffe8f53",
   "metadata": {},
   "outputs": [
    {
     "data": {
      "text/html": [
       "<div>\n",
       "<style scoped>\n",
       "    .dataframe tbody tr th:only-of-type {\n",
       "        vertical-align: middle;\n",
       "    }\n",
       "\n",
       "    .dataframe tbody tr th {\n",
       "        vertical-align: top;\n",
       "    }\n",
       "\n",
       "    .dataframe thead th {\n",
       "        text-align: right;\n",
       "    }\n",
       "</style>\n",
       "<table border=\"1\" class=\"dataframe\">\n",
       "  <thead>\n",
       "    <tr style=\"text-align: right;\">\n",
       "      <th></th>\n",
       "      <th>Name</th>\n",
       "      <th>Size</th>\n",
       "      <th>Race + alignment</th>\n",
       "      <th>HP</th>\n",
       "      <th>Armor</th>\n",
       "      <th>Speed</th>\n",
       "      <th>Challenge rating  (XP)</th>\n",
       "    </tr>\n",
       "  </thead>\n",
       "  <tbody>\n",
       "    <tr>\n",
       "      <th>0</th>\n",
       "      <td>Aboleth</td>\n",
       "      <td>Large</td>\n",
       "      <td>aberration, Lawful Evil</td>\n",
       "      <td>135 (18d10+36)</td>\n",
       "      <td>17 (Natural Armor)</td>\n",
       "      <td>10 ft., swim 40 ft.</td>\n",
       "      <td>10 (5,900 XP)</td>\n",
       "    </tr>\n",
       "    <tr>\n",
       "      <th>1</th>\n",
       "      <td>Acolyte</td>\n",
       "      <td>Medium</td>\n",
       "      <td>humanoid (any race), Any Alignment</td>\n",
       "      <td>9 (2d8)</td>\n",
       "      <td>10</td>\n",
       "      <td>30 ft.</td>\n",
       "      <td>1/4 (50 XP)</td>\n",
       "    </tr>\n",
       "    <tr>\n",
       "      <th>2</th>\n",
       "      <td>Adult Black Dragon</td>\n",
       "      <td>Huge</td>\n",
       "      <td>dragon, Chaotic Evil</td>\n",
       "      <td>195 (17d12+85)</td>\n",
       "      <td>19 (Natural Armor)</td>\n",
       "      <td>40 ft., fly 80 ft., swim 40 ft.</td>\n",
       "      <td>14 (11,500 XP)</td>\n",
       "    </tr>\n",
       "  </tbody>\n",
       "</table>\n",
       "</div>"
      ],
      "text/plain": [
       "                 Name    Size                    Race + alignment  \\\n",
       "0             Aboleth   Large             aberration, Lawful Evil   \n",
       "1             Acolyte  Medium  humanoid (any race), Any Alignment   \n",
       "2  Adult Black Dragon    Huge                dragon, Chaotic Evil   \n",
       "\n",
       "               HP               Armor                            Speed  \\\n",
       "0  135 (18d10+36)  17 (Natural Armor)              10 ft., swim 40 ft.   \n",
       "1         9 (2d8)                  10                           30 ft.   \n",
       "2  195 (17d12+85)  19 (Natural Armor)  40 ft., fly 80 ft., swim 40 ft.   \n",
       "\n",
       "  Challenge rating  (XP)  \n",
       "0          10 (5,900 XP)  \n",
       "1            1/4 (50 XP)  \n",
       "2         14 (11,500 XP)  "
      ]
     },
     "execution_count": 3,
     "metadata": {},
     "output_type": "execute_result"
    }
   ],
   "source": [
    "#look over the columns names and first three rows worth of data\n",
    "dnd.head(3)"
   ]
  },
  {
   "cell_type": "code",
   "execution_count": 5,
   "id": "bbc89a73-0e84-4ed3-aa3e-83b7fe422935",
   "metadata": {},
   "outputs": [
    {
     "data": {
      "text/plain": [
       "Name                      0\n",
       "Size                      0\n",
       "Race + alignment          0\n",
       "HP                        0\n",
       "Armor                     0\n",
       "Speed                     0\n",
       "Challenge rating  (XP)    0\n",
       "dtype: int64"
      ]
     },
     "execution_count": 5,
     "metadata": {},
     "output_type": "execute_result"
    }
   ],
   "source": [
    "#Check for any null values even those this data set looks pretty clean at a glance\n",
    "dnd.isnull().sum()"
   ]
  }
 ],
 "metadata": {
  "kernelspec": {
   "display_name": "Python (learn-env)",
   "language": "python",
   "name": "learn-env"
  },
  "language_info": {
   "codemirror_mode": {
    "name": "ipython",
    "version": 3
   },
   "file_extension": ".py",
   "mimetype": "text/x-python",
   "name": "python",
   "nbconvert_exporter": "python",
   "pygments_lexer": "ipython3",
   "version": "3.8.5"
  }
 },
 "nbformat": 4,
 "nbformat_minor": 5
}
