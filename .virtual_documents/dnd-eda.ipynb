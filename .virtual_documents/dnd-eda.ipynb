


#import libraries used for data analysis
import numpy as np
import pandas as pd
import matplotlib.pyplot as plt
import seaborn as sns


#read in the CSV file and see a preview of the data
dnd = pd.read_csv('Dd5e_monsters.csv')
dnd.info()


#look over the columns names and first three rows worth of data
dnd.head(3)


#Check for any null values even those this data set looks pretty clean at a glance
dnd.isnull().sum()





# found that some of the data had multiple commas, so starting from the end of the string was the trick
dnd[['Race','Alignment']] = dnd['Race + alignment'].str.rsplit(',', n=1, expand=True)


dnd


different_races_count = dnd['Race'].value_counts()
different_races = dnd['Race'].value_counts().keys()


dnd['Race'].value_counts().keys()


different_races_count


# Plotting out a graph to show the monsters. A lot of humanoid variants. 

fig, ax = plt.subplots(figsize=(20,15))

sns.barplot(ax=ax, x=different_races_count, y=different_races, palette='flare_r',data=dnd)

plt.show()



