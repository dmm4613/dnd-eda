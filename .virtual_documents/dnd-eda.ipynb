


#import libraries used for data analysis
import numpy as np
import pandas as pd
import matplotlib.pyplot as plt
import seaborn as sns
from matplotlib.markers import MarkerStyle


#read in the CSV file and see a preview of the data
dnd = pd.read_csv('Dd5e_monsters.csv')
dnd.info()


#look over the columns names and first three rows worth of data
dnd.head(3)


#Check for any null values even those this data set looks pretty clean at a glance
dnd.isnull().sum()





# found that some of the data had multiple commas, so starting from the end of the string was the trick
dnd[['Race','Alignment']] = dnd['Race + alignment'].str.rsplit(',', n=1, expand=True)
dnd['Alignment'] = dnd['Alignment'].str.strip()



# Let's also clean up some of the other columns for future discussion.
dnd['Armor'] = dnd['Armor'].apply(lambda x: int(x.split(' (')[0]))
dnd['HP'] = dnd['HP'].apply(lambda x: int(x.split(' (')[0]))



dnd = dnd.drop(['Race + alignment', 'Challenge rating  (XP)'], axis=1)


dnd.head()


# Plotting out a graph to show the monsters. A lot of humanoid variants. 
different_races_count = dnd['Race'].value_counts()
different_races = dnd['Race'].value_counts().keys()

fig, ax = plt.subplots(figsize=(20,15))

sns.barplot(ax=ax, x=different_races_count, y=different_races, palette='flare_r',data=dnd)

plt.show()





dnd['Race'] = dnd['Race'].apply(lambda x: x.split(' ')[0])


# let's recreate the graph from above 
different_races_count = dnd['Race'].value_counts()
different_races = dnd['Race'].value_counts().keys()

fig, ax = plt.subplots(figsize=(20,15))

sns.barplot(ax=ax, x=different_races_count, y=different_races, palette='flare_r',data=dnd)

plt.show()








dnd['Race'].value_counts().mean()





# Get an idea for which alignments we are looking at in the data
dnd['Alignment'].value_counts()





alignments = ['Unaligned', 
              'Chaotic Evil', 'Lawful Evil', 'Neutral Evil', 
              'Chaotic Good', 'Lawful Good', 'Neutral Good', 
              'Neutral', 'Chaotic Neutral', 'Lawful Neutral']

dnd['True Alignment'] = dnd['Alignment'].apply(lambda alignment: 1 if alignment in alignments else 0)
dnd.head()


dnd['Alignment'].unique()


true_alignments = dnd[dnd['True Alignment'] == 1]

sns.barplot(x=true_alignments['Race'].value_counts(), y=true_alignments)





monster_size_and_hp = dnd[['Size', 'HP']]
monster_size = monster_size_and_hp['Size']
monster_hp = monster_size_and_hp['HP']


fig, ax = plt.subplots(figsize=(10,5))
sns.barplot(x=monster_hp, y=monster_size, data=monster_size_and_hp)








#Let's associate the string values of size to numbers so they are ordered in the scatter plot
MONSTER_SIZE_VALUE = {'Tiny': 1,
                      'Small': 2,
                      'Medium': 4,
                      'Large': 8,
                      'Huge': 16,
                      'Gargantuan': 32}

dnd['Size Value'] = dnd['Size'].map(MONSTER_SIZE_VALUE)


dnd.head()


monster_hp = dnd['HP']
monster_armor = dnd['Armor']

MONSTER_SYMBOLS = []

fig,ax = plt.subplots(figsize=(20,10))

sns.scatterplot(x=monster_hp, y=monster_armor, hue=dnd['Race'], size=dnd['Size Value'], sizes=(10, 500))
ax.set_title('Monster HP vs. Monster Armor')





dnd[dnd['HP'] == dnd['HP'].max()]



