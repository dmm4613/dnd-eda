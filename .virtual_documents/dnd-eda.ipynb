








# import libraries used for data analysis
import numpy as np
import pandas as pd
import matplotlib.pyplot as plt
import seaborn as sns
from matplotlib.markers import MarkerStyle

sns.set_theme(style="darkgrid", palette="rocket_r")



# read in the CSV file and see a preview of the data
dnd = pd.read_csv('Dd5e_monsters.csv')
dnd.info()


# look over the columns names and first three rows worth of data
dnd.head(3)


# check for any null values even though this data set looks pretty clean at a glance
dnd.isnull().sum()


# found that some of the data had multiple commas, so starting from the end of the string was the trick
dnd[['Race','Alignment']] = dnd['Race + alignment'].str.rsplit(',', n=1, expand=True)
dnd['Alignment'] = dnd['Alignment'].str.strip()



# clean up some of the other columns for future discussion.
dnd['Armor'] = dnd['Armor'].apply(lambda x: int(x.split(' (')[0]))
dnd['HP'] = dnd['HP'].apply(lambda x: int(x.split(' (')[0]))







dnd = dnd.drop(['Race + alignment', 'Challenge rating  (XP)', 'Speed'], axis=1)


dnd.head()


# Use groupby with dropna=False to find any null values in categorical data
dnd.groupby(['Name', 'Size', 'Race', 'Alignment', 'HP', 'Armor'], dropna=False, as_index=False).size()





 
different_races_count = dnd['Race'].value_counts()
different_races = dnd['Race'].value_counts().keys()

fig, ax = plt.subplots(figsize=(20,10))

sns.barplot(ax=ax, x=different_races_count, y=different_races, 
            data=dnd,
            palette="rocket")
plt.title('The various races from 5e', fontsize=20)
plt.xlabel('How many times a race appears')
plt.ylabel('Different Races')
plt.show()





# combine all races to their main categories so the data looks more in sync. 
dnd['Race'] = dnd['Race'].apply(lambda x: x.split(' ')[0])


 
fig, ax = plt.subplots(figsize=(20,10))

sns.barplot(ax=ax, x=different_races_count, y=different_races, 
            data=dnd, 
            palette="rocket")
plt.title('The various races from 5e', fontsize=20)
plt.xlabel('How many times a race appears')
plt.ylabel('Different Races')

# plt.savefig('graphs/races_of_5e.png', bbox_inches = 'tight', edgecolor='w')
plt.show()








# get an idea for which alignments we are looking at in the data
dnd['Alignment'].value_counts()





# creating a list of the alignments we care to look over.
alignments = ['Chaotic Evil', 'Neutral Evil','Lawful Evil',
              'Chaotic Neutral','Neutral','Lawful Neutral', 
              'Chaotic Good', 'Neutral Good', 'Lawful Good',
              'Unaligned']

# this function will create a new column of 0/1 values so we narrow down our alignments with a true/false statement
dnd['True Alignment'] = dnd['Alignment'].apply(lambda alignment: 1 if alignment in alignments else 0)
dnd.head()





# Use pd.Categorical to manually order the Size series instead of allowing for an alphabetical order
dnd['Alignment'] = pd.Categorical(dnd['Alignment'], categories=alignments, ordered=True)



true_alignments = dnd[dnd['True Alignment'] == 1]

fig, ax = plt.subplots(figsize=(20,15))
sns.countplot(y=true_alignments['Race'], 
              hue=true_alignments['Alignment'], palette="rocket")
plt.title('Monster Race by True Alignment', fontsize=20)
legend = plt.legend()
# plt.savefig('graphs/monster_Race_by_alignment.png', bbox_inches = 'tight', edgecolor='w')
plt.show()








# create a function for looking at aligntment in individual races
def check_alignment(race):
    race = race.lower()
    single_race = true_alignments[true_alignments['Race']==race]

    fig, ax = plt.subplots(figsize=(10,6))
    sns.countplot(x=single_race['Race'], 
                  hue=single_race['Alignment'], palette='rocket')
    plt.title(f'{race.capitalize()}(s) by True Alignment', fontsize=20)
    legend = plt.legend()
    plt.xticks(visible=False)
    plt.xlabel("")
    plt.savefig(f'graphs/{race}_alignment.png', bbox_inches = 'tight', edgecolor='w')
    plt.show()

check_alignment('dragon')








# creating a list of the alignments we care to look over.
alignments_grid = ['Chaotic Evil', 'Neutral Evil','Lawful Evil',
              'Chaotic Neutral','Neutral','Lawful Neutral', 
              'Chaotic Good', 'Neutral Good', 'Lawful Good']


# this function will create a new column of 0/1 values so we narrow down our alignments with a true/false statement
dnd['Alignment Grid'] = dnd['Alignment'].apply(lambda alignment: 1 if alignment in alignments_grid else 0)
dnd

true_alignments_grid = dnd[dnd['Alignment Grid'] == 1.0]
true_alignments_grid
true_alignments_grid[(true_alignments_grid['Race'] == 'dragon') & (true_alignments_grid['Alignment'] != 'Unaligned')].Alignment.value_counts()

substring='Unaligned'
filter=true_alignments_grid['Alignment'].str.contains(substring)

filtered_df = true_alignments_grid[~filter]
df=filtered_df[['Race', 'Alignment']]

counts = df.groupby(['Race', 'Alignment'], observed=True).size().reset_index(name='Count')
counts
heat_dnd = counts[counts['Race'] == 'dragon']
heat_dnd

pivot_dnd = heat_dnd.pivot(index='Race', columns='Alignment', values='Count').fillna(0)
sns.heatmap(pivot_dnd, square=True, annot=True, linewidth=2, cmap='rocket', linecolor='black')






check_alignment('humanoid')


check_alignment('giant')








monster_size_and_hp = dnd[['Size', 'HP']]
monster_size = monster_size_and_hp['Size']
monster_hp = monster_size_and_hp['HP']


fig, ax = plt.subplots(figsize=(10,5))
sns.barplot(y=monster_hp, x=monster_size, 
            data=monster_size_and_hp,
            palette='rocket')
plt.title('Monster Sizes vs. Monster Hit Points in 5e', fontsize=20)
plt.ylabel('Hit Points (HP)')
plt.xlabel('Monster Size')
# plt.savefig('graphs/monster_size_v_monster_hp.png', bbox_inches = 'tight', edgecolor='w')
plt.show()


fig, ax = plt.subplots(figsize=(10,20))
sns.boxplot(y=monster_hp, x=monster_size, 
            data=monster_size_and_hp,
            palette='rocket')
plt.title('Monster Sizes vs. Monster Hit Points in 5e', fontsize=20)
plt.ylabel('Hit Points (HP)')
plt.xlabel('Monster Size')
plt.savefig('graphs/monster_size_v_monster_hp_box.png', bbox_inches = 'tight', edgecolor='w')
plt.show()


# finding the largest HP unit in a given monster size category
def find_monster_in_size_with_max_hp(size):
    df = dnd[monster_size==size.capitalize()]
    return df.loc[df['HP'] == df['HP'].max()]['Name'].values[0]
    # dnd[dnd['HP'] == dnd['HP'].max()]['Name'].values[0]

find_monster_in_size_with_max_hp('Gargantuan')








# Use pd.Categorical to manually order the Size series instead of allowing for an alphabetical order

dnd['Size'] = pd.Categorical(dnd['Size'], categories=['Gargantuan', 'Huge','Large','Medium','Small','Tiny'], ordered=True)
marker_size = dnd.sort_values('Size', ascending=True)


monster_hp = dnd['HP']
monster_armor = dnd['Armor']

MONSTER_SYMBOLS = []



fig,ax = plt.subplots(figsize=(20,10))
sns.set_context('paper')

sns.scatterplot(x=monster_hp, y=monster_armor, hue=dnd['Race'], size=marker_size['Size'], sizes=(10, 400))

# Put the name of the monster that fits the max HP and Max armor for each size next to its marker
plt.text(monster_hp[dnd['Size']=='Tiny'].max(),monster_armor[dnd['Size']=='Tiny'].max(),find_monster_in_size_with_max_hp('Tiny'), color='black', fontsize='xx-large', fontvariant='small-caps')
plt.text(monster_hp[dnd['Size']=='Small'].max(),monster_armor[dnd['Size']=='Small'].max(),find_monster_in_size_with_max_hp('Small'), color='black', fontsize='xx-large', fontvariant='small-caps')
plt.text(monster_hp[dnd['Size']=='Medium'].max(),monster_armor[dnd['Size']=='Medium'].max(),find_monster_in_size_with_max_hp('Medium'), color='black', fontsize='xx-large', fontvariant='small-caps')
plt.text(monster_hp[dnd['Size']=='Large'].max(),monster_armor[dnd['Size']=='Large'].max(),find_monster_in_size_with_max_hp('Large'), color='black', fontsize='xx-large', fontvariant='small-caps')
plt.text(monster_hp[dnd['Size']=='Huge'].max(),monster_armor[dnd['Size']=='Huge'].max(),find_monster_in_size_with_max_hp('Huge'), color='black', fontsize='xx-large', fontvariant='small-caps')
plt.text(monster_hp[dnd['Size']=='Gargantuan'].max(),monster_armor[dnd['Size']=='Gargantuan'].max(),find_monster_in_size_with_max_hp('Gargantuan'), color='black', fontsize='xx-large', fontvariant='small-caps')
plt.tight_layout()
ax.set_title('Monster HP vs. Monster Armor', fontsize=20)
# plt.savefig('graphs/monster_hp_v_monster_armor.png', bbox_inches = 'tight', edgecolor='w')
plt.show()





sns.relplot(
    x=monster_hp, y=monster_armor, hue=dnd['Race'],
      col=dnd['Size'], col_wrap=3,
      size=marker_size['Size'], sizes=(100, 100))

# plt.savefig('graphs/monster_hp_v_monster_armor_across_sizes.png', bbox_inches = 'tight', edgecolor='w')

plt.show()















sns.displot(
    dnd, x=monster_hp, y=monster_armor)
plt.show()



sns.jointplot(
    data=dnd, x=monster_hp, y=monster_armor, hue=dnd['Size'], kind='kde', observed=True)
plt.show()


sns.pairplot(dnd[['HP', 'Armor', ]])
