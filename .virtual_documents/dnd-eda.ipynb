


#import libraries used for data analysis
import numpy as np
import pandas as pd
import matplotlib.pyplot as plt
import seaborn as sns
from matplotlib.markers import MarkerStyle


#read in the CSV file and see a preview of the data
dnd = pd.read_csv('Dd5e_monsters.csv')
dnd.info()


#look over the columns names and first three rows worth of data
dnd.head(3)


#Check for any null values even those this data set looks pretty clean at a glance
dnd.isnull().sum()





# found that some of the data had multiple commas, so starting from the end of the string was the trick
dnd[['Race','Alignment']] = dnd['Race + alignment'].str.rsplit(',', n=1, expand=True)
dnd['Alignment'] = dnd['Alignment'].str.strip()



# Let's also clean up some of the other columns for future discussion.
dnd['Armor'] = dnd['Armor'].apply(lambda x: int(x.split(' (')[0]))
dnd['HP'] = dnd['HP'].apply(lambda x: int(x.split(' (')[0]))



dnd = dnd.drop(['Race + alignment', 'Challenge rating  (XP)'], axis=1)


dnd.head()


# Plotting out a graph to show the monsters. A lot of humanoid variants. 
different_races_count = dnd['Race'].value_counts()
different_races = dnd['Race'].value_counts().keys()

fig, ax = plt.subplots(figsize=(20,10))

sns.barplot(ax=ax, x=different_races_count, y=different_races, palette='flare_r',data=dnd)
plt.title('The various races from 5e')
plt.xlabel('How many times a race appears')
plt.ylabel('Different Races')
plt.show()





# combine all races to their main categories so the data looks more in sync. 
dnd['Race'] = dnd['Race'].apply(lambda x: x.split(' ')[0])


 
different_races_count = dnd['Race'].value_counts()
different_races = dnd['Race'].value_counts().keys()

fig, ax = plt.subplots(figsize=(20,10))

sns.barplot(ax=ax, x=different_races_count, y=different_races, palette='flare_r',data=dnd)
plt.title('The various races from 5e')
plt.xlabel('How many times a race appears')
plt.ylabel('Different Races')


# plt.savefig('graphs/races_of_5e.jpg', bbox_inches = 'tight', edgecolor='w')





dnd.head()





# Get an idea for which alignments we are looking at in the data
dnd['Alignment'].value_counts()





# creating a list of the alignments we care to look over.
alignments = ['Unaligned', 
              'Chaotic Evil', 'Lawful Evil', 'Neutral Evil', 
              'Chaotic Good', 'Lawful Good', 'Neutral Good', 
              'Neutral', 'Chaotic Neutral', 'Lawful Neutral']

# this function will create a new column of 0/1 values so we narrow down our alignments with a true/false statement
dnd['True Alignment'] = dnd['Alignment'].apply(lambda alignment: 1 if alignment in alignments else 0)
dnd.head()


dnd['Alignment'].unique()


# We are using a horizontal bargraph just for visualization because of how this material looks, even though a vertical bar group is best practice. 

true_alignments = dnd[dnd['True Alignment'] == 1]

fig, ax = plt.subplots(figsize=(20,15))
sns.countplot(y=true_alignments['Race'], hue=true_alignments['Alignment'])
plt.title('Monster Race by True Alignment')
legend = plt.legend()
# plt.savefig('graphs/monster_Race_by_alignment.jpg', bbox_inches = 'tight', edgecolor='w')
plt.show()








# create a function for looking at aligntment in individual races
def check_alignment(race):
    race = race.lower()
    single_race = true_alignments[true_alignments['Race']==race]

    fig, ax = plt.subplots(figsize=(10,6))
    sns.countplot(x=single_race['Race'], hue=single_race['Alignment'])
    plt.title(f'{race.capitalize()}(s) by True Alignment')
    legend = plt.legend()
    plt.xticks(visible=False)
    plt.xlabel("")
    # plt.savefig(f'graphs/{race}_alignment.jpg', bbox_inches = 'tight', edgecolor='w')
    plt.show()

check_alignment('dragon')





check_alignment('humanoid')








monster_size_and_hp = dnd[['Size', 'HP']]
monster_size = monster_size_and_hp['Size']
monster_hp = monster_size_and_hp['HP']


fig, ax = plt.subplots(figsize=(10,5))
sns.barplot(y=monster_hp, x=monster_size, data=monster_size_and_hp)
plt.title('Monster Sizes vs. Monster Hit Points in 5e')
plt.ylabel('Hit Points (HP)')
plt.xlabel('Monster Size')
# plt.savefig('graphs/monster_size_v_monster_hp.jpg', bbox_inches = 'tight', edgecolor='w')
plt.show()


fig, ax = plt.subplots(figsize=(10,20))
sns.boxplot(y=monster_hp, x=monster_size, data=monster_size_and_hp)
plt.title('Monster Sizes vs. Monster Hit Points in 5e')
plt.ylabel('Hit Points (HP)')
plt.xlabel('Monster Size')
# plt.savefig('graphs/monster_size_v_monster_hp_box.jpg', bbox_inches = 'tight', edgecolor='w')
plt.show()


# finding the largest HP unit in a given monster size category
def find_monster_in_size_with_max_hp(size):
    df = dnd[monster_size==size.capitalize()]
    return df.loc[df['HP'] == df['HP'].max()]['Name'].values[0]
    # dnd[dnd['HP'] == dnd['HP'].max()]['Name'].values[0]

find_monster_in_size_with_max_hp('Gargantuan')








#Let's associate the string values of size to numbers so they are ordered in the scatter plot
MONSTER_SIZE_VALUE = {'Tiny': 1,
                      'Small': 2,
                      'Medium': 4,
                      'Large': 8,
                      'Huge': 16,
                      'Gargantuan': 32}

dnd['Size Value'] = dnd['Size'].map(MONSTER_SIZE_VALUE)


dnd.head()


list(dnd['Size'].unique())


monster_hp = dnd['HP']
monster_armor = dnd['Armor']

MONSTER_SYMBOLS = []



fig,ax = plt.subplots(figsize=(20,10))

sns.scatterplot(x=monster_hp, y=monster_armor, hue=dnd['Race'], size=dnd['Size Value'], sizes=(10, 500))
plt.text(monster_hp[dnd['Size']=='Tiny'].max(),monster_armor[dnd['Size']=='Tiny'].max(),find_monster_in_size_with_max_hp('Tiny'), color='black', fontsize='xx-large', fontvariant='small-caps')
plt.text(monster_hp[dnd['Size']=='Small'].max(),monster_armor[dnd['Size']=='Small'].max(),find_monster_in_size_with_max_hp('Small'), color='black', fontsize='xx-large', fontvariant='small-caps')
plt.text(monster_hp[dnd['Size']=='Medium'].max(),monster_armor[dnd['Size']=='Medium'].max(),find_monster_in_size_with_max_hp('Medium'), color='black', fontsize='xx-large', fontvariant='small-caps')
plt.text(monster_hp[dnd['Size']=='Large'].max(),monster_armor[dnd['Size']=='Large'].max(),find_monster_in_size_with_max_hp('Large'), color='black', fontsize='xx-large', fontvariant='small-caps')
plt.text(monster_hp[dnd['Size']=='Huge'].max(),monster_armor[dnd['Size']=='Huge'].max(),find_monster_in_size_with_max_hp('Huge'), color='black', fontsize='xx-large', fontvariant='small-caps')
plt.text(monster_hp[dnd['Size']=='Gargantuan'].max(),monster_armor[dnd['Size']=='Gargantuan'].max(),find_monster_in_size_with_max_hp('Gargantuan'), color='black', fontsize='xx-large', fontvariant='small-caps')

ax.set_title('Monster HP vs. Monster Armor')
# plt.savefig('graphs/monster_hp_v_monster_armor.jpg', bbox_inches = 'tight', edgecolor='w')






dnd[dnd['HP'] == dnd['HP'].max()]['Name'].values[0]






