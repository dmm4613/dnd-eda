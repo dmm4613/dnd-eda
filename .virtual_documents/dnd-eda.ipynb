


#import libraries used for data analysis
import numpy as np
import pandas as pd
import matplotlib.pyplot as plt
import seaborn as sns


#read in the CSV file and see a preview of the data
dnd = pd.read_csv('Dd5e_monsters.csv')
dnd.info()


#look over the columns names and first three rows worth of data
dnd.head(3)


#Check for any null values even those this data set looks pretty clean at a glance
dnd.isnull().sum()





# found that some of the data had multiple commas, so starting from the end of the string was the trick
dnd[['Race','Alignment']] = dnd['Race + alignment'].str.rsplit(',', n=1, expand=True)
dnd['Alignment'] = dnd['Alignment'].str.strip()


dnd


different_races_count = dnd['Race'].value_counts()
different_races = dnd['Race'].value_counts().keys()


dnd['Race'].value_counts().keys()


different_races_count


# Plotting out a graph to show the monsters. A lot of humanoid variants. 

fig, ax = plt.subplots(figsize=(20,15))

sns.barplot(ax=ax, x=different_races_count, y=different_races, palette='flare_r',data=dnd)

plt.show()


# Let's turn this into a function so we can change parameters more easily.
def plot_monster_races(x, y, data=None):
    fig, ax = plt.subplots(figsize=(20,15))

    ax=sns.barplot(ax=ax, x=x, y=y, palette='flare_r',data=data)
    # for b in x:
    #     ax.bar_label(b)
    plt.show()

plot_monster_races(different_races_count, different_races, dnd)
    








dnd_races = dnd['Race']
races_dict = dict()
for race in dnd_races:
    category = race.split(" ")[0].lower().strip()
    races_dict[category] = races_dict.get(category, 0)+1
races_dict = dict(sorted(races_dict.items(), key=lambda item: item[1]))
races_dict

vals = list(races_dict.values())
races = list(races_dict.keys())
plot_monster_races(vals, races)





# Get an idea for which alignments we are looking at in the data
dnd['Alignment'].value_counts()





alignments = ['Unaligned', 
              'Chaotic Evil', 'Lawful Evil', 'Neutral Evil', 
              'Chaotic Good', 'Lawful Good', 'Neutral Good', 
              'Neutral', 'Chaotic Neutral', 'Lawful Neutral']

dnd['True Alignment'] = dnd['Alignment'].apply(lambda alignment: 1 if alignment in alignments else 0)
dnd.head()


dnd['Alignment'].unique()


true_alignments = dnd[dnd['True Alignment'] == 1]

sns.boxplot(x=true_alignments['Race'].value_counts(), y=true_alignments['Alignment'])





monster_size_and_hp = dnd[['Size', 'HP']]
monster_size = monster_size_and_hp['Size']
monster_hp = monster_size_and_hp['HP']


fig, ax = plt.subplots(figsize=(10,5))
sns.scatterplot(x=monster_hp, y=monster_size, data=monster_size_and_hp)



