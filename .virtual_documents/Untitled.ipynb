


#import libraries used for data analysis
import numpy as np
import pandas as pd
import matplotlib.pyplot as plt
import seaborn as sns


#read in the CSV file and see a preview of the data
dnd = pd.read_csv('Dd5e_monsters.csv')
dnd.info()


#look over the columns names and first three rows worth of data
dnd.head(3)


#Check for any null values even those this data set looks pretty clean at a glance
dnd.isnull().sum()
